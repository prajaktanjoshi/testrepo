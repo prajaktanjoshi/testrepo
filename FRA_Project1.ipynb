{
 "cells": [
  {
   "cell_type": "code",
   "execution_count": 1,
   "id": "a9c9e950",
   "metadata": {
    "scrolled": true
   },
   "outputs": [],
   "source": [
    "# Importing the libraries\n",
    "import numpy as np\n",
    "import matplotlib.pyplot as plt\n",
    "import pandas as pd\n",
    "import seaborn as sns # for making plots with seaborn\n",
    "color = sns.color_palette()\n",
    "import sklearn.metrics as metrics\n",
    "\n",
    "import warnings\n",
    "warnings.filterwarnings(\"ignore\")"
   ]
  },
  {
   "cell_type": "code",
   "execution_count": 2,
   "id": "54cac8d3",
   "metadata": {
    "scrolled": true
   },
   "outputs": [
    {
     "data": {
      "text/html": [
       "<div>\n",
       "<style scoped>\n",
       "    .dataframe tbody tr th:only-of-type {\n",
       "        vertical-align: middle;\n",
       "    }\n",
       "\n",
       "    .dataframe tbody tr th {\n",
       "        vertical-align: top;\n",
       "    }\n",
       "\n",
       "    .dataframe thead th {\n",
       "        text-align: right;\n",
       "    }\n",
       "</style>\n",
       "<table border=\"1\" class=\"dataframe\">\n",
       "  <thead>\n",
       "    <tr style=\"text-align: right;\">\n",
       "      <th></th>\n",
       "      <th>Co_Code</th>\n",
       "      <th>Co_Name</th>\n",
       "      <th>Networth Next Year</th>\n",
       "      <th>Equity Paid Up</th>\n",
       "      <th>Networth</th>\n",
       "      <th>Capital Employed</th>\n",
       "      <th>Total Debt</th>\n",
       "      <th>Gross Block</th>\n",
       "      <th>Net Working Capital</th>\n",
       "      <th>Current Assets</th>\n",
       "      <th>...</th>\n",
       "      <th>PBIDTM (%)[Latest]</th>\n",
       "      <th>PBITM (%)[Latest]</th>\n",
       "      <th>PBDTM (%)[Latest]</th>\n",
       "      <th>CPM (%)[Latest]</th>\n",
       "      <th>APATM (%)[Latest]</th>\n",
       "      <th>Debtors Velocity (Days)</th>\n",
       "      <th>Creditors Velocity (Days)</th>\n",
       "      <th>Inventory Velocity (Days)</th>\n",
       "      <th>Value of Output/Total Assets</th>\n",
       "      <th>Value of Output/Gross Block</th>\n",
       "    </tr>\n",
       "  </thead>\n",
       "  <tbody>\n",
       "    <tr>\n",
       "      <th>0</th>\n",
       "      <td>16974</td>\n",
       "      <td>Hind.Cables</td>\n",
       "      <td>-8021.60</td>\n",
       "      <td>419.36</td>\n",
       "      <td>-7027.48</td>\n",
       "      <td>-1007.24</td>\n",
       "      <td>5936.03</td>\n",
       "      <td>474.30</td>\n",
       "      <td>-1076.34</td>\n",
       "      <td>40.50</td>\n",
       "      <td>...</td>\n",
       "      <td>0.00</td>\n",
       "      <td>0.00</td>\n",
       "      <td>0.00</td>\n",
       "      <td>0.00</td>\n",
       "      <td>0.00</td>\n",
       "      <td>0</td>\n",
       "      <td>0</td>\n",
       "      <td>45.0</td>\n",
       "      <td>0.00</td>\n",
       "      <td>0.00</td>\n",
       "    </tr>\n",
       "    <tr>\n",
       "      <th>1</th>\n",
       "      <td>21214</td>\n",
       "      <td>Tata Tele. Mah.</td>\n",
       "      <td>-3986.19</td>\n",
       "      <td>1954.93</td>\n",
       "      <td>-2968.08</td>\n",
       "      <td>4458.20</td>\n",
       "      <td>7410.18</td>\n",
       "      <td>9070.86</td>\n",
       "      <td>-1098.88</td>\n",
       "      <td>486.86</td>\n",
       "      <td>...</td>\n",
       "      <td>-10.30</td>\n",
       "      <td>-39.74</td>\n",
       "      <td>-57.74</td>\n",
       "      <td>-57.74</td>\n",
       "      <td>-87.18</td>\n",
       "      <td>29</td>\n",
       "      <td>101</td>\n",
       "      <td>2.0</td>\n",
       "      <td>0.31</td>\n",
       "      <td>0.24</td>\n",
       "    </tr>\n",
       "    <tr>\n",
       "      <th>2</th>\n",
       "      <td>14852</td>\n",
       "      <td>ABG Shipyard</td>\n",
       "      <td>-3192.58</td>\n",
       "      <td>53.84</td>\n",
       "      <td>506.86</td>\n",
       "      <td>7714.68</td>\n",
       "      <td>6944.54</td>\n",
       "      <td>1281.54</td>\n",
       "      <td>4496.25</td>\n",
       "      <td>9097.64</td>\n",
       "      <td>...</td>\n",
       "      <td>-5279.14</td>\n",
       "      <td>-5516.98</td>\n",
       "      <td>-7780.25</td>\n",
       "      <td>-7723.67</td>\n",
       "      <td>-7961.51</td>\n",
       "      <td>97</td>\n",
       "      <td>558</td>\n",
       "      <td>0.0</td>\n",
       "      <td>-0.03</td>\n",
       "      <td>-0.26</td>\n",
       "    </tr>\n",
       "    <tr>\n",
       "      <th>3</th>\n",
       "      <td>2439</td>\n",
       "      <td>GTL</td>\n",
       "      <td>-3054.51</td>\n",
       "      <td>157.30</td>\n",
       "      <td>-623.49</td>\n",
       "      <td>2353.88</td>\n",
       "      <td>2326.05</td>\n",
       "      <td>1033.69</td>\n",
       "      <td>-2612.42</td>\n",
       "      <td>1034.12</td>\n",
       "      <td>...</td>\n",
       "      <td>-3.33</td>\n",
       "      <td>-7.21</td>\n",
       "      <td>-48.13</td>\n",
       "      <td>-47.70</td>\n",
       "      <td>-51.58</td>\n",
       "      <td>93</td>\n",
       "      <td>63</td>\n",
       "      <td>2.0</td>\n",
       "      <td>0.24</td>\n",
       "      <td>1.90</td>\n",
       "    </tr>\n",
       "    <tr>\n",
       "      <th>4</th>\n",
       "      <td>23505</td>\n",
       "      <td>Bharati Defence</td>\n",
       "      <td>-2967.36</td>\n",
       "      <td>50.30</td>\n",
       "      <td>-1070.83</td>\n",
       "      <td>4675.33</td>\n",
       "      <td>5740.90</td>\n",
       "      <td>1084.20</td>\n",
       "      <td>1836.23</td>\n",
       "      <td>4685.81</td>\n",
       "      <td>...</td>\n",
       "      <td>-295.55</td>\n",
       "      <td>-400.55</td>\n",
       "      <td>-845.88</td>\n",
       "      <td>379.79</td>\n",
       "      <td>274.79</td>\n",
       "      <td>3887</td>\n",
       "      <td>346</td>\n",
       "      <td>0.0</td>\n",
       "      <td>0.01</td>\n",
       "      <td>0.05</td>\n",
       "    </tr>\n",
       "  </tbody>\n",
       "</table>\n",
       "<p>5 rows × 67 columns</p>\n",
       "</div>"
      ],
      "text/plain": [
       "   Co_Code          Co_Name  Networth Next Year  Equity Paid Up  Networth  \\\n",
       "0    16974      Hind.Cables            -8021.60          419.36  -7027.48   \n",
       "1    21214  Tata Tele. Mah.            -3986.19         1954.93  -2968.08   \n",
       "2    14852     ABG Shipyard            -3192.58           53.84    506.86   \n",
       "3     2439              GTL            -3054.51          157.30   -623.49   \n",
       "4    23505  Bharati Defence            -2967.36           50.30  -1070.83   \n",
       "\n",
       "   Capital Employed  Total Debt  Gross Block   Net Working Capital   \\\n",
       "0          -1007.24     5936.03        474.30              -1076.34   \n",
       "1           4458.20     7410.18       9070.86              -1098.88   \n",
       "2           7714.68     6944.54       1281.54               4496.25   \n",
       "3           2353.88     2326.05       1033.69              -2612.42   \n",
       "4           4675.33     5740.90       1084.20               1836.23   \n",
       "\n",
       "   Current Assets   ...  PBIDTM (%)[Latest]  PBITM (%)[Latest]  \\\n",
       "0            40.50  ...                0.00               0.00   \n",
       "1           486.86  ...              -10.30             -39.74   \n",
       "2          9097.64  ...            -5279.14           -5516.98   \n",
       "3          1034.12  ...               -3.33              -7.21   \n",
       "4          4685.81  ...             -295.55            -400.55   \n",
       "\n",
       "   PBDTM (%)[Latest]  CPM (%)[Latest]  APATM (%)[Latest]  \\\n",
       "0               0.00             0.00               0.00   \n",
       "1             -57.74           -57.74             -87.18   \n",
       "2           -7780.25         -7723.67           -7961.51   \n",
       "3             -48.13           -47.70             -51.58   \n",
       "4            -845.88           379.79             274.79   \n",
       "\n",
       "   Debtors Velocity (Days)  Creditors Velocity (Days)  \\\n",
       "0                        0                          0   \n",
       "1                       29                        101   \n",
       "2                       97                        558   \n",
       "3                       93                         63   \n",
       "4                     3887                        346   \n",
       "\n",
       "   Inventory Velocity (Days)  Value of Output/Total Assets  \\\n",
       "0                       45.0                          0.00   \n",
       "1                        2.0                          0.31   \n",
       "2                        0.0                         -0.03   \n",
       "3                        2.0                          0.24   \n",
       "4                        0.0                          0.01   \n",
       "\n",
       "   Value of Output/Gross Block  \n",
       "0                         0.00  \n",
       "1                         0.24  \n",
       "2                        -0.26  \n",
       "3                         1.90  \n",
       "4                         0.05  \n",
       "\n",
       "[5 rows x 67 columns]"
      ]
     },
     "execution_count": 2,
     "metadata": {},
     "output_type": "execute_result"
    }
   ],
   "source": [
    "Company = pd.read_excel('Company_Data2015-1-1.xlsx')\n",
    "\n",
    "#Glimpse of Data\n",
    "Company.head()"
   ]
  },
  {
   "cell_type": "code",
   "execution_count": 3,
   "id": "776ed970",
   "metadata": {
    "scrolled": true
   },
   "outputs": [
    {
     "name": "stdout",
     "output_type": "stream",
     "text": [
      "The number of rows (observations) is 3586 \n",
      "The number of columns (variables) is 67\n"
     ]
    }
   ],
   "source": [
    "print('The number of rows (observations) is',Company.shape[0],'\\n''The number of columns (variables) is',Company.shape[1])\n"
   ]
  },
  {
   "cell_type": "code",
   "execution_count": 4,
   "id": "a4769265",
   "metadata": {
    "scrolled": false
   },
   "outputs": [
    {
     "name": "stdout",
     "output_type": "stream",
     "text": [
      "<class 'pandas.core.frame.DataFrame'>\n",
      "RangeIndex: 3586 entries, 0 to 3585\n",
      "Data columns (total 67 columns):\n",
      " #   Column                               Non-Null Count  Dtype  \n",
      "---  ------                               --------------  -----  \n",
      " 0   Co_Code                              3586 non-null   int64  \n",
      " 1   Co_Name                              3586 non-null   object \n",
      " 2   Networth Next Year                   3586 non-null   float64\n",
      " 3   Equity Paid Up                       3586 non-null   float64\n",
      " 4   Networth                             3586 non-null   float64\n",
      " 5   Capital Employed                     3586 non-null   float64\n",
      " 6   Total Debt                           3586 non-null   float64\n",
      " 7   Gross Block                          3586 non-null   float64\n",
      " 8   Net Working Capital                  3586 non-null   float64\n",
      " 9   Current Assets                       3586 non-null   float64\n",
      " 10  Current Liabilities and Provisions   3586 non-null   float64\n",
      " 11  Total Assets/Liabilities             3586 non-null   float64\n",
      " 12  Gross Sales                          3586 non-null   float64\n",
      " 13  Net Sales                            3586 non-null   float64\n",
      " 14  Other Income                         3586 non-null   float64\n",
      " 15  Value Of Output                      3586 non-null   float64\n",
      " 16  Cost of Production                   3586 non-null   float64\n",
      " 17  Selling Cost                         3586 non-null   float64\n",
      " 18  PBIDT                                3586 non-null   float64\n",
      " 19  PBDT                                 3586 non-null   float64\n",
      " 20  PBIT                                 3586 non-null   float64\n",
      " 21  PBT                                  3586 non-null   float64\n",
      " 22  PAT                                  3586 non-null   float64\n",
      " 23  Adjusted PAT                         3586 non-null   float64\n",
      " 24  CP                                   3586 non-null   float64\n",
      " 25  Revenue earnings in forex            3586 non-null   float64\n",
      " 26  Revenue expenses in forex            3586 non-null   float64\n",
      " 27  Capital expenses in forex            3586 non-null   float64\n",
      " 28  Book Value (Unit Curr)               3586 non-null   float64\n",
      " 29  Book Value (Adj.) (Unit Curr)        3582 non-null   float64\n",
      " 30  Market Capitalisation                3586 non-null   float64\n",
      " 31  CEPS (annualised) (Unit Curr)        3586 non-null   float64\n",
      " 32  Cash Flow From Operating Activities  3586 non-null   float64\n",
      " 33  Cash Flow From Investing Activities  3586 non-null   float64\n",
      " 34  Cash Flow From Financing Activities  3586 non-null   float64\n",
      " 35  ROG-Net Worth (%)                    3586 non-null   float64\n",
      " 36  ROG-Capital Employed (%)             3586 non-null   float64\n",
      " 37  ROG-Gross Block (%)                  3586 non-null   float64\n",
      " 38  ROG-Gross Sales (%)                  3586 non-null   float64\n",
      " 39  ROG-Net Sales (%)                    3586 non-null   float64\n",
      " 40  ROG-Cost of Production (%)           3586 non-null   float64\n",
      " 41  ROG-Total Assets (%)                 3586 non-null   float64\n",
      " 42  ROG-PBIDT (%)                        3586 non-null   float64\n",
      " 43  ROG-PBDT (%)                         3586 non-null   float64\n",
      " 44  ROG-PBIT (%)                         3586 non-null   float64\n",
      " 45  ROG-PBT (%)                          3586 non-null   float64\n",
      " 46  ROG-PAT (%)                          3586 non-null   float64\n",
      " 47  ROG-CP (%)                           3586 non-null   float64\n",
      " 48  ROG-Revenue earnings in forex (%)    3586 non-null   float64\n",
      " 49  ROG-Revenue expenses in forex (%)    3586 non-null   float64\n",
      " 50  ROG-Market Capitalisation (%)        3586 non-null   float64\n",
      " 51  Current Ratio[Latest]                3585 non-null   float64\n",
      " 52  Fixed Assets Ratio[Latest]           3585 non-null   float64\n",
      " 53  Inventory Ratio[Latest]              3585 non-null   float64\n",
      " 54  Debtors Ratio[Latest]                3585 non-null   float64\n",
      " 55  Total Asset Turnover Ratio[Latest]   3585 non-null   float64\n",
      " 56  Interest Cover Ratio[Latest]         3585 non-null   float64\n",
      " 57  PBIDTM (%)[Latest]                   3585 non-null   float64\n",
      " 58  PBITM (%)[Latest]                    3585 non-null   float64\n",
      " 59  PBDTM (%)[Latest]                    3585 non-null   float64\n",
      " 60  CPM (%)[Latest]                      3585 non-null   float64\n",
      " 61  APATM (%)[Latest]                    3585 non-null   float64\n",
      " 62  Debtors Velocity (Days)              3586 non-null   int64  \n",
      " 63  Creditors Velocity (Days)            3586 non-null   int64  \n",
      " 64  Inventory Velocity (Days)            3483 non-null   float64\n",
      " 65  Value of Output/Total Assets         3586 non-null   float64\n",
      " 66  Value of Output/Gross Block          3586 non-null   float64\n",
      "dtypes: float64(63), int64(3), object(1)\n",
      "memory usage: 1.8+ MB\n"
     ]
    }
   ],
   "source": [
    "Company.info()"
   ]
  },
  {
   "cell_type": "code",
   "execution_count": 5,
   "id": "9fb0d4be",
   "metadata": {
    "scrolled": true
   },
   "outputs": [
    {
     "data": {
      "text/html": [
       "<div>\n",
       "<style scoped>\n",
       "    .dataframe tbody tr th:only-of-type {\n",
       "        vertical-align: middle;\n",
       "    }\n",
       "\n",
       "    .dataframe tbody tr th {\n",
       "        vertical-align: top;\n",
       "    }\n",
       "\n",
       "    .dataframe thead th {\n",
       "        text-align: right;\n",
       "    }\n",
       "</style>\n",
       "<table border=\"1\" class=\"dataframe\">\n",
       "  <thead>\n",
       "    <tr style=\"text-align: right;\">\n",
       "      <th></th>\n",
       "      <th>Co_Code</th>\n",
       "      <th>Networth Next Year</th>\n",
       "      <th>Equity Paid Up</th>\n",
       "      <th>Networth</th>\n",
       "      <th>Capital Employed</th>\n",
       "      <th>Total Debt</th>\n",
       "      <th>Gross Block</th>\n",
       "      <th>Net Working Capital</th>\n",
       "      <th>Current Assets</th>\n",
       "      <th>Current Liabilities and Provisions</th>\n",
       "      <th>...</th>\n",
       "      <th>PBIDTM (%)[Latest]</th>\n",
       "      <th>PBITM (%)[Latest]</th>\n",
       "      <th>PBDTM (%)[Latest]</th>\n",
       "      <th>CPM (%)[Latest]</th>\n",
       "      <th>APATM (%)[Latest]</th>\n",
       "      <th>Debtors Velocity (Days)</th>\n",
       "      <th>Creditors Velocity (Days)</th>\n",
       "      <th>Inventory Velocity (Days)</th>\n",
       "      <th>Value of Output/Total Assets</th>\n",
       "      <th>Value of Output/Gross Block</th>\n",
       "    </tr>\n",
       "  </thead>\n",
       "  <tbody>\n",
       "    <tr>\n",
       "      <th>count</th>\n",
       "      <td>3586.000000</td>\n",
       "      <td>3586.000000</td>\n",
       "      <td>3586.000000</td>\n",
       "      <td>3586.000000</td>\n",
       "      <td>3586.000000</td>\n",
       "      <td>3586.000000</td>\n",
       "      <td>3586.000000</td>\n",
       "      <td>3586.000000</td>\n",
       "      <td>3586.000000</td>\n",
       "      <td>3586.000000</td>\n",
       "      <td>...</td>\n",
       "      <td>3585.000000</td>\n",
       "      <td>3585.000000</td>\n",
       "      <td>3585.000000</td>\n",
       "      <td>3585.000000</td>\n",
       "      <td>3585.000000</td>\n",
       "      <td>3586.000000</td>\n",
       "      <td>3.586000e+03</td>\n",
       "      <td>3483.000000</td>\n",
       "      <td>3586.000000</td>\n",
       "      <td>3586.000000</td>\n",
       "    </tr>\n",
       "    <tr>\n",
       "      <th>mean</th>\n",
       "      <td>16065.388734</td>\n",
       "      <td>725.045251</td>\n",
       "      <td>62.966584</td>\n",
       "      <td>649.746299</td>\n",
       "      <td>2799.611054</td>\n",
       "      <td>1994.823779</td>\n",
       "      <td>594.178829</td>\n",
       "      <td>410.809665</td>\n",
       "      <td>1960.349172</td>\n",
       "      <td>391.992078</td>\n",
       "      <td>...</td>\n",
       "      <td>-51.162890</td>\n",
       "      <td>-109.213414</td>\n",
       "      <td>-311.570357</td>\n",
       "      <td>-307.005632</td>\n",
       "      <td>-365.056187</td>\n",
       "      <td>603.894032</td>\n",
       "      <td>2.057855e+03</td>\n",
       "      <td>79.644559</td>\n",
       "      <td>0.819757</td>\n",
       "      <td>61.884548</td>\n",
       "    </tr>\n",
       "    <tr>\n",
       "      <th>std</th>\n",
       "      <td>19776.817379</td>\n",
       "      <td>4769.681004</td>\n",
       "      <td>778.761744</td>\n",
       "      <td>4091.988792</td>\n",
       "      <td>26975.135385</td>\n",
       "      <td>23652.842746</td>\n",
       "      <td>4871.547802</td>\n",
       "      <td>6301.218546</td>\n",
       "      <td>22577.570829</td>\n",
       "      <td>2675.001631</td>\n",
       "      <td>...</td>\n",
       "      <td>1795.131025</td>\n",
       "      <td>3057.635870</td>\n",
       "      <td>10921.592639</td>\n",
       "      <td>10676.149629</td>\n",
       "      <td>12500.051387</td>\n",
       "      <td>10636.759580</td>\n",
       "      <td>5.416948e+04</td>\n",
       "      <td>137.847792</td>\n",
       "      <td>1.201400</td>\n",
       "      <td>976.824352</td>\n",
       "    </tr>\n",
       "    <tr>\n",
       "      <th>min</th>\n",
       "      <td>4.000000</td>\n",
       "      <td>-8021.600000</td>\n",
       "      <td>0.000000</td>\n",
       "      <td>-7027.480000</td>\n",
       "      <td>-1824.750000</td>\n",
       "      <td>-0.720000</td>\n",
       "      <td>-41.190000</td>\n",
       "      <td>-13162.420000</td>\n",
       "      <td>-0.910000</td>\n",
       "      <td>-0.230000</td>\n",
       "      <td>...</td>\n",
       "      <td>-78870.450000</td>\n",
       "      <td>-141600.000000</td>\n",
       "      <td>-590500.000000</td>\n",
       "      <td>-572000.000000</td>\n",
       "      <td>-688600.000000</td>\n",
       "      <td>0.000000</td>\n",
       "      <td>0.000000e+00</td>\n",
       "      <td>-199.000000</td>\n",
       "      <td>-0.330000</td>\n",
       "      <td>-61.000000</td>\n",
       "    </tr>\n",
       "    <tr>\n",
       "      <th>25%</th>\n",
       "      <td>3029.250000</td>\n",
       "      <td>3.985000</td>\n",
       "      <td>3.750000</td>\n",
       "      <td>3.892500</td>\n",
       "      <td>7.602500</td>\n",
       "      <td>0.030000</td>\n",
       "      <td>0.570000</td>\n",
       "      <td>0.942500</td>\n",
       "      <td>4.000000</td>\n",
       "      <td>0.732500</td>\n",
       "      <td>...</td>\n",
       "      <td>0.000000</td>\n",
       "      <td>0.000000</td>\n",
       "      <td>0.000000</td>\n",
       "      <td>0.000000</td>\n",
       "      <td>0.000000</td>\n",
       "      <td>8.000000</td>\n",
       "      <td>8.000000e+00</td>\n",
       "      <td>0.000000</td>\n",
       "      <td>0.070000</td>\n",
       "      <td>0.270000</td>\n",
       "    </tr>\n",
       "    <tr>\n",
       "      <th>50%</th>\n",
       "      <td>6077.500000</td>\n",
       "      <td>19.015000</td>\n",
       "      <td>8.290000</td>\n",
       "      <td>18.580000</td>\n",
       "      <td>39.090000</td>\n",
       "      <td>7.490000</td>\n",
       "      <td>15.870000</td>\n",
       "      <td>10.145000</td>\n",
       "      <td>24.540000</td>\n",
       "      <td>9.225000</td>\n",
       "      <td>...</td>\n",
       "      <td>8.070000</td>\n",
       "      <td>5.230000</td>\n",
       "      <td>4.690000</td>\n",
       "      <td>3.890000</td>\n",
       "      <td>1.590000</td>\n",
       "      <td>49.000000</td>\n",
       "      <td>3.900000e+01</td>\n",
       "      <td>35.000000</td>\n",
       "      <td>0.480000</td>\n",
       "      <td>1.530000</td>\n",
       "    </tr>\n",
       "    <tr>\n",
       "      <th>75%</th>\n",
       "      <td>24269.500000</td>\n",
       "      <td>123.802500</td>\n",
       "      <td>19.517500</td>\n",
       "      <td>117.297500</td>\n",
       "      <td>226.605000</td>\n",
       "      <td>72.350000</td>\n",
       "      <td>131.895000</td>\n",
       "      <td>61.175000</td>\n",
       "      <td>135.277500</td>\n",
       "      <td>65.650000</td>\n",
       "      <td>...</td>\n",
       "      <td>18.990000</td>\n",
       "      <td>14.290000</td>\n",
       "      <td>14.110000</td>\n",
       "      <td>11.390000</td>\n",
       "      <td>7.410000</td>\n",
       "      <td>106.000000</td>\n",
       "      <td>8.900000e+01</td>\n",
       "      <td>96.000000</td>\n",
       "      <td>1.160000</td>\n",
       "      <td>4.910000</td>\n",
       "    </tr>\n",
       "    <tr>\n",
       "      <th>max</th>\n",
       "      <td>72493.000000</td>\n",
       "      <td>111729.100000</td>\n",
       "      <td>42263.460000</td>\n",
       "      <td>81657.350000</td>\n",
       "      <td>714001.250000</td>\n",
       "      <td>652823.810000</td>\n",
       "      <td>128477.590000</td>\n",
       "      <td>223257.560000</td>\n",
       "      <td>721166.000000</td>\n",
       "      <td>83232.980000</td>\n",
       "      <td>...</td>\n",
       "      <td>19233.330000</td>\n",
       "      <td>19195.700000</td>\n",
       "      <td>15640.000000</td>\n",
       "      <td>15640.000000</td>\n",
       "      <td>15266.670000</td>\n",
       "      <td>514721.000000</td>\n",
       "      <td>2.034145e+06</td>\n",
       "      <td>996.000000</td>\n",
       "      <td>17.630000</td>\n",
       "      <td>43404.000000</td>\n",
       "    </tr>\n",
       "  </tbody>\n",
       "</table>\n",
       "<p>8 rows × 66 columns</p>\n",
       "</div>"
      ],
      "text/plain": [
       "            Co_Code  Networth Next Year  Equity Paid Up      Networth  \\\n",
       "count   3586.000000         3586.000000     3586.000000   3586.000000   \n",
       "mean   16065.388734          725.045251       62.966584    649.746299   \n",
       "std    19776.817379         4769.681004      778.761744   4091.988792   \n",
       "min        4.000000        -8021.600000        0.000000  -7027.480000   \n",
       "25%     3029.250000            3.985000        3.750000      3.892500   \n",
       "50%     6077.500000           19.015000        8.290000     18.580000   \n",
       "75%    24269.500000          123.802500       19.517500    117.297500   \n",
       "max    72493.000000       111729.100000    42263.460000  81657.350000   \n",
       "\n",
       "       Capital Employed     Total Debt   Gross Block   Net Working Capital   \\\n",
       "count       3586.000000    3586.000000    3586.000000           3586.000000   \n",
       "mean        2799.611054    1994.823779     594.178829            410.809665   \n",
       "std        26975.135385   23652.842746    4871.547802           6301.218546   \n",
       "min        -1824.750000      -0.720000     -41.190000         -13162.420000   \n",
       "25%            7.602500       0.030000       0.570000              0.942500   \n",
       "50%           39.090000       7.490000      15.870000             10.145000   \n",
       "75%          226.605000      72.350000     131.895000             61.175000   \n",
       "max       714001.250000  652823.810000  128477.590000         223257.560000   \n",
       "\n",
       "       Current Assets   Current Liabilities and Provisions   ...  \\\n",
       "count      3586.000000                          3586.000000  ...   \n",
       "mean       1960.349172                           391.992078  ...   \n",
       "std       22577.570829                          2675.001631  ...   \n",
       "min          -0.910000                            -0.230000  ...   \n",
       "25%           4.000000                             0.732500  ...   \n",
       "50%          24.540000                             9.225000  ...   \n",
       "75%         135.277500                            65.650000  ...   \n",
       "max      721166.000000                         83232.980000  ...   \n",
       "\n",
       "       PBIDTM (%)[Latest]  PBITM (%)[Latest]  PBDTM (%)[Latest]  \\\n",
       "count         3585.000000        3585.000000        3585.000000   \n",
       "mean           -51.162890        -109.213414        -311.570357   \n",
       "std           1795.131025        3057.635870       10921.592639   \n",
       "min         -78870.450000     -141600.000000     -590500.000000   \n",
       "25%              0.000000           0.000000           0.000000   \n",
       "50%              8.070000           5.230000           4.690000   \n",
       "75%             18.990000          14.290000          14.110000   \n",
       "max          19233.330000       19195.700000       15640.000000   \n",
       "\n",
       "       CPM (%)[Latest]  APATM (%)[Latest]  Debtors Velocity (Days)  \\\n",
       "count      3585.000000        3585.000000              3586.000000   \n",
       "mean       -307.005632        -365.056187               603.894032   \n",
       "std       10676.149629       12500.051387             10636.759580   \n",
       "min     -572000.000000     -688600.000000                 0.000000   \n",
       "25%           0.000000           0.000000                 8.000000   \n",
       "50%           3.890000           1.590000                49.000000   \n",
       "75%          11.390000           7.410000               106.000000   \n",
       "max       15640.000000       15266.670000            514721.000000   \n",
       "\n",
       "       Creditors Velocity (Days)  Inventory Velocity (Days)  \\\n",
       "count               3.586000e+03                3483.000000   \n",
       "mean                2.057855e+03                  79.644559   \n",
       "std                 5.416948e+04                 137.847792   \n",
       "min                 0.000000e+00                -199.000000   \n",
       "25%                 8.000000e+00                   0.000000   \n",
       "50%                 3.900000e+01                  35.000000   \n",
       "75%                 8.900000e+01                  96.000000   \n",
       "max                 2.034145e+06                 996.000000   \n",
       "\n",
       "       Value of Output/Total Assets  Value of Output/Gross Block  \n",
       "count                   3586.000000                  3586.000000  \n",
       "mean                       0.819757                    61.884548  \n",
       "std                        1.201400                   976.824352  \n",
       "min                       -0.330000                   -61.000000  \n",
       "25%                        0.070000                     0.270000  \n",
       "50%                        0.480000                     1.530000  \n",
       "75%                        1.160000                     4.910000  \n",
       "max                       17.630000                 43404.000000  \n",
       "\n",
       "[8 rows x 66 columns]"
      ]
     },
     "execution_count": 5,
     "metadata": {},
     "output_type": "execute_result"
    }
   ],
   "source": [
    "Company.describe()"
   ]
  },
  {
   "cell_type": "code",
   "execution_count": 6,
   "id": "7521c074",
   "metadata": {
    "scrolled": true
   },
   "outputs": [
    {
     "data": {
      "text/html": [
       "<div>\n",
       "<style scoped>\n",
       "    .dataframe tbody tr th:only-of-type {\n",
       "        vertical-align: middle;\n",
       "    }\n",
       "\n",
       "    .dataframe tbody tr th {\n",
       "        vertical-align: top;\n",
       "    }\n",
       "\n",
       "    .dataframe thead th {\n",
       "        text-align: right;\n",
       "    }\n",
       "</style>\n",
       "<table border=\"1\" class=\"dataframe\">\n",
       "  <thead>\n",
       "    <tr style=\"text-align: right;\">\n",
       "      <th></th>\n",
       "      <th>Co_Code</th>\n",
       "      <th>Networth Next Year</th>\n",
       "      <th>Equity Paid Up</th>\n",
       "      <th>Networth</th>\n",
       "      <th>Capital Employed</th>\n",
       "      <th>Total Debt</th>\n",
       "      <th>Gross Block</th>\n",
       "      <th>Net Working Capital</th>\n",
       "      <th>Current Assets</th>\n",
       "      <th>Current Liabilities and Provisions</th>\n",
       "      <th>...</th>\n",
       "      <th>PBIDTM (%)[Latest]</th>\n",
       "      <th>PBITM (%)[Latest]</th>\n",
       "      <th>PBDTM (%)[Latest]</th>\n",
       "      <th>CPM (%)[Latest]</th>\n",
       "      <th>APATM (%)[Latest]</th>\n",
       "      <th>Debtors Velocity (Days)</th>\n",
       "      <th>Creditors Velocity (Days)</th>\n",
       "      <th>Inventory Velocity (Days)</th>\n",
       "      <th>Value of Output/Total Assets</th>\n",
       "      <th>Value of Output/Gross Block</th>\n",
       "    </tr>\n",
       "  </thead>\n",
       "  <tbody>\n",
       "    <tr>\n",
       "      <th>count</th>\n",
       "      <td>3586.00</td>\n",
       "      <td>3586.00</td>\n",
       "      <td>3586.00</td>\n",
       "      <td>3586.00</td>\n",
       "      <td>3586.00</td>\n",
       "      <td>3586.00</td>\n",
       "      <td>3586.00</td>\n",
       "      <td>3586.00</td>\n",
       "      <td>3586.00</td>\n",
       "      <td>3586.00</td>\n",
       "      <td>...</td>\n",
       "      <td>3585.00</td>\n",
       "      <td>3585.00</td>\n",
       "      <td>3585.00</td>\n",
       "      <td>3585.00</td>\n",
       "      <td>3585.00</td>\n",
       "      <td>3586.00</td>\n",
       "      <td>3586.00</td>\n",
       "      <td>3483.00</td>\n",
       "      <td>3586.00</td>\n",
       "      <td>3586.00</td>\n",
       "    </tr>\n",
       "    <tr>\n",
       "      <th>mean</th>\n",
       "      <td>16065.39</td>\n",
       "      <td>725.05</td>\n",
       "      <td>62.97</td>\n",
       "      <td>649.75</td>\n",
       "      <td>2799.61</td>\n",
       "      <td>1994.82</td>\n",
       "      <td>594.18</td>\n",
       "      <td>410.81</td>\n",
       "      <td>1960.35</td>\n",
       "      <td>391.99</td>\n",
       "      <td>...</td>\n",
       "      <td>-51.16</td>\n",
       "      <td>-109.21</td>\n",
       "      <td>-311.57</td>\n",
       "      <td>-307.01</td>\n",
       "      <td>-365.06</td>\n",
       "      <td>603.89</td>\n",
       "      <td>2057.85</td>\n",
       "      <td>79.64</td>\n",
       "      <td>0.82</td>\n",
       "      <td>61.88</td>\n",
       "    </tr>\n",
       "    <tr>\n",
       "      <th>std</th>\n",
       "      <td>19776.82</td>\n",
       "      <td>4769.68</td>\n",
       "      <td>778.76</td>\n",
       "      <td>4091.99</td>\n",
       "      <td>26975.14</td>\n",
       "      <td>23652.84</td>\n",
       "      <td>4871.55</td>\n",
       "      <td>6301.22</td>\n",
       "      <td>22577.57</td>\n",
       "      <td>2675.00</td>\n",
       "      <td>...</td>\n",
       "      <td>1795.13</td>\n",
       "      <td>3057.64</td>\n",
       "      <td>10921.59</td>\n",
       "      <td>10676.15</td>\n",
       "      <td>12500.05</td>\n",
       "      <td>10636.76</td>\n",
       "      <td>54169.48</td>\n",
       "      <td>137.85</td>\n",
       "      <td>1.20</td>\n",
       "      <td>976.82</td>\n",
       "    </tr>\n",
       "    <tr>\n",
       "      <th>min</th>\n",
       "      <td>4.00</td>\n",
       "      <td>-8021.60</td>\n",
       "      <td>0.00</td>\n",
       "      <td>-7027.48</td>\n",
       "      <td>-1824.75</td>\n",
       "      <td>-0.72</td>\n",
       "      <td>-41.19</td>\n",
       "      <td>-13162.42</td>\n",
       "      <td>-0.91</td>\n",
       "      <td>-0.23</td>\n",
       "      <td>...</td>\n",
       "      <td>-78870.45</td>\n",
       "      <td>-141600.00</td>\n",
       "      <td>-590500.00</td>\n",
       "      <td>-572000.00</td>\n",
       "      <td>-688600.00</td>\n",
       "      <td>0.00</td>\n",
       "      <td>0.00</td>\n",
       "      <td>-199.00</td>\n",
       "      <td>-0.33</td>\n",
       "      <td>-61.00</td>\n",
       "    </tr>\n",
       "    <tr>\n",
       "      <th>25%</th>\n",
       "      <td>3029.25</td>\n",
       "      <td>3.98</td>\n",
       "      <td>3.75</td>\n",
       "      <td>3.89</td>\n",
       "      <td>7.60</td>\n",
       "      <td>0.03</td>\n",
       "      <td>0.57</td>\n",
       "      <td>0.94</td>\n",
       "      <td>4.00</td>\n",
       "      <td>0.73</td>\n",
       "      <td>...</td>\n",
       "      <td>0.00</td>\n",
       "      <td>0.00</td>\n",
       "      <td>0.00</td>\n",
       "      <td>0.00</td>\n",
       "      <td>0.00</td>\n",
       "      <td>8.00</td>\n",
       "      <td>8.00</td>\n",
       "      <td>0.00</td>\n",
       "      <td>0.07</td>\n",
       "      <td>0.27</td>\n",
       "    </tr>\n",
       "    <tr>\n",
       "      <th>50%</th>\n",
       "      <td>6077.50</td>\n",
       "      <td>19.02</td>\n",
       "      <td>8.29</td>\n",
       "      <td>18.58</td>\n",
       "      <td>39.09</td>\n",
       "      <td>7.49</td>\n",
       "      <td>15.87</td>\n",
       "      <td>10.14</td>\n",
       "      <td>24.54</td>\n",
       "      <td>9.23</td>\n",
       "      <td>...</td>\n",
       "      <td>8.07</td>\n",
       "      <td>5.23</td>\n",
       "      <td>4.69</td>\n",
       "      <td>3.89</td>\n",
       "      <td>1.59</td>\n",
       "      <td>49.00</td>\n",
       "      <td>39.00</td>\n",
       "      <td>35.00</td>\n",
       "      <td>0.48</td>\n",
       "      <td>1.53</td>\n",
       "    </tr>\n",
       "    <tr>\n",
       "      <th>75%</th>\n",
       "      <td>24269.50</td>\n",
       "      <td>123.80</td>\n",
       "      <td>19.52</td>\n",
       "      <td>117.30</td>\n",
       "      <td>226.60</td>\n",
       "      <td>72.35</td>\n",
       "      <td>131.90</td>\n",
       "      <td>61.17</td>\n",
       "      <td>135.28</td>\n",
       "      <td>65.65</td>\n",
       "      <td>...</td>\n",
       "      <td>18.99</td>\n",
       "      <td>14.29</td>\n",
       "      <td>14.11</td>\n",
       "      <td>11.39</td>\n",
       "      <td>7.41</td>\n",
       "      <td>106.00</td>\n",
       "      <td>89.00</td>\n",
       "      <td>96.00</td>\n",
       "      <td>1.16</td>\n",
       "      <td>4.91</td>\n",
       "    </tr>\n",
       "    <tr>\n",
       "      <th>max</th>\n",
       "      <td>72493.00</td>\n",
       "      <td>111729.10</td>\n",
       "      <td>42263.46</td>\n",
       "      <td>81657.35</td>\n",
       "      <td>714001.25</td>\n",
       "      <td>652823.81</td>\n",
       "      <td>128477.59</td>\n",
       "      <td>223257.56</td>\n",
       "      <td>721166.00</td>\n",
       "      <td>83232.98</td>\n",
       "      <td>...</td>\n",
       "      <td>19233.33</td>\n",
       "      <td>19195.70</td>\n",
       "      <td>15640.00</td>\n",
       "      <td>15640.00</td>\n",
       "      <td>15266.67</td>\n",
       "      <td>514721.00</td>\n",
       "      <td>2034145.00</td>\n",
       "      <td>996.00</td>\n",
       "      <td>17.63</td>\n",
       "      <td>43404.00</td>\n",
       "    </tr>\n",
       "  </tbody>\n",
       "</table>\n",
       "<p>8 rows × 66 columns</p>\n",
       "</div>"
      ],
      "text/plain": [
       "       Co_Code  Networth Next Year  Equity Paid Up  Networth  \\\n",
       "count  3586.00             3586.00         3586.00   3586.00   \n",
       "mean  16065.39              725.05           62.97    649.75   \n",
       "std   19776.82             4769.68          778.76   4091.99   \n",
       "min       4.00            -8021.60            0.00  -7027.48   \n",
       "25%    3029.25                3.98            3.75      3.89   \n",
       "50%    6077.50               19.02            8.29     18.58   \n",
       "75%   24269.50              123.80           19.52    117.30   \n",
       "max   72493.00           111729.10        42263.46  81657.35   \n",
       "\n",
       "       Capital Employed  Total Debt  Gross Block   Net Working Capital   \\\n",
       "count           3586.00     3586.00       3586.00               3586.00   \n",
       "mean            2799.61     1994.82        594.18                410.81   \n",
       "std            26975.14    23652.84       4871.55               6301.22   \n",
       "min            -1824.75       -0.72        -41.19             -13162.42   \n",
       "25%                7.60        0.03          0.57                  0.94   \n",
       "50%               39.09        7.49         15.87                 10.14   \n",
       "75%              226.60       72.35        131.90                 61.17   \n",
       "max           714001.25   652823.81     128477.59             223257.56   \n",
       "\n",
       "       Current Assets   Current Liabilities and Provisions   ...  \\\n",
       "count          3586.00                              3586.00  ...   \n",
       "mean           1960.35                               391.99  ...   \n",
       "std           22577.57                              2675.00  ...   \n",
       "min              -0.91                                -0.23  ...   \n",
       "25%               4.00                                 0.73  ...   \n",
       "50%              24.54                                 9.23  ...   \n",
       "75%             135.28                                65.65  ...   \n",
       "max          721166.00                             83232.98  ...   \n",
       "\n",
       "       PBIDTM (%)[Latest]  PBITM (%)[Latest]  PBDTM (%)[Latest]  \\\n",
       "count             3585.00            3585.00            3585.00   \n",
       "mean               -51.16            -109.21            -311.57   \n",
       "std               1795.13            3057.64           10921.59   \n",
       "min             -78870.45         -141600.00         -590500.00   \n",
       "25%                  0.00               0.00               0.00   \n",
       "50%                  8.07               5.23               4.69   \n",
       "75%                 18.99              14.29              14.11   \n",
       "max              19233.33           19195.70           15640.00   \n",
       "\n",
       "       CPM (%)[Latest]  APATM (%)[Latest]  Debtors Velocity (Days)  \\\n",
       "count          3585.00            3585.00                  3586.00   \n",
       "mean           -307.01            -365.06                   603.89   \n",
       "std           10676.15           12500.05                 10636.76   \n",
       "min         -572000.00         -688600.00                     0.00   \n",
       "25%               0.00               0.00                     8.00   \n",
       "50%               3.89               1.59                    49.00   \n",
       "75%              11.39               7.41                   106.00   \n",
       "max           15640.00           15266.67                514721.00   \n",
       "\n",
       "       Creditors Velocity (Days)  Inventory Velocity (Days)  \\\n",
       "count                    3586.00                    3483.00   \n",
       "mean                     2057.85                      79.64   \n",
       "std                     54169.48                     137.85   \n",
       "min                         0.00                    -199.00   \n",
       "25%                         8.00                       0.00   \n",
       "50%                        39.00                      35.00   \n",
       "75%                        89.00                      96.00   \n",
       "max                   2034145.00                     996.00   \n",
       "\n",
       "       Value of Output/Total Assets  Value of Output/Gross Block  \n",
       "count                       3586.00                      3586.00  \n",
       "mean                           0.82                        61.88  \n",
       "std                            1.20                       976.82  \n",
       "min                           -0.33                       -61.00  \n",
       "25%                            0.07                         0.27  \n",
       "50%                            0.48                         1.53  \n",
       "75%                            1.16                         4.91  \n",
       "max                           17.63                     43404.00  \n",
       "\n",
       "[8 rows x 66 columns]"
      ]
     },
     "execution_count": 6,
     "metadata": {},
     "output_type": "execute_result"
    }
   ],
   "source": [
    "pd.options.display.float_format = '{:.2f}'.format   \n",
    "\n",
    "Company.describe()"
   ]
  },
  {
   "cell_type": "code",
   "execution_count": 7,
   "id": "80c00762",
   "metadata": {
    "scrolled": true
   },
   "outputs": [],
   "source": [
    "Company.columns = Company.columns.str.replace(' ', '_').str.replace('(', '').str.replace(')', '').str.replace('%', 'perc').str.replace('/', '_to_')"
   ]
  },
  {
   "cell_type": "code",
   "execution_count": 8,
   "id": "64361b31",
   "metadata": {
    "scrolled": true
   },
   "outputs": [
    {
     "data": {
      "text/html": [
       "<div>\n",
       "<style scoped>\n",
       "    .dataframe tbody tr th:only-of-type {\n",
       "        vertical-align: middle;\n",
       "    }\n",
       "\n",
       "    .dataframe tbody tr th {\n",
       "        vertical-align: top;\n",
       "    }\n",
       "\n",
       "    .dataframe thead th {\n",
       "        text-align: right;\n",
       "    }\n",
       "</style>\n",
       "<table border=\"1\" class=\"dataframe\">\n",
       "  <thead>\n",
       "    <tr style=\"text-align: right;\">\n",
       "      <th></th>\n",
       "      <th>Co_Code</th>\n",
       "      <th>Networth_Next_Year</th>\n",
       "      <th>Equity_Paid_Up</th>\n",
       "      <th>Networth</th>\n",
       "      <th>Capital_Employed</th>\n",
       "      <th>Total_Debt</th>\n",
       "      <th>Gross_Block_</th>\n",
       "      <th>Net_Working_Capital_</th>\n",
       "      <th>Current_Assets_</th>\n",
       "      <th>Current_Liabilities_and_Provisions_</th>\n",
       "      <th>...</th>\n",
       "      <th>PBIDTM_perc[Latest]</th>\n",
       "      <th>PBITM_perc[Latest]</th>\n",
       "      <th>PBDTM_perc[Latest]</th>\n",
       "      <th>CPM_perc[Latest]</th>\n",
       "      <th>APATM_perc[Latest]</th>\n",
       "      <th>Debtors_Velocity_Days</th>\n",
       "      <th>Creditors_Velocity_Days</th>\n",
       "      <th>Inventory_Velocity_Days</th>\n",
       "      <th>Value_of_Output_to_Total_Assets</th>\n",
       "      <th>Value_of_Output_to_Gross_Block</th>\n",
       "    </tr>\n",
       "  </thead>\n",
       "  <tbody>\n",
       "    <tr>\n",
       "      <th>count</th>\n",
       "      <td>3586.00</td>\n",
       "      <td>3586.00</td>\n",
       "      <td>3586.00</td>\n",
       "      <td>3586.00</td>\n",
       "      <td>3586.00</td>\n",
       "      <td>3586.00</td>\n",
       "      <td>3586.00</td>\n",
       "      <td>3586.00</td>\n",
       "      <td>3586.00</td>\n",
       "      <td>3586.00</td>\n",
       "      <td>...</td>\n",
       "      <td>3585.00</td>\n",
       "      <td>3585.00</td>\n",
       "      <td>3585.00</td>\n",
       "      <td>3585.00</td>\n",
       "      <td>3585.00</td>\n",
       "      <td>3586.00</td>\n",
       "      <td>3586.00</td>\n",
       "      <td>3483.00</td>\n",
       "      <td>3586.00</td>\n",
       "      <td>3586.00</td>\n",
       "    </tr>\n",
       "    <tr>\n",
       "      <th>mean</th>\n",
       "      <td>16065.39</td>\n",
       "      <td>725.05</td>\n",
       "      <td>62.97</td>\n",
       "      <td>649.75</td>\n",
       "      <td>2799.61</td>\n",
       "      <td>1994.82</td>\n",
       "      <td>594.18</td>\n",
       "      <td>410.81</td>\n",
       "      <td>1960.35</td>\n",
       "      <td>391.99</td>\n",
       "      <td>...</td>\n",
       "      <td>-51.16</td>\n",
       "      <td>-109.21</td>\n",
       "      <td>-311.57</td>\n",
       "      <td>-307.01</td>\n",
       "      <td>-365.06</td>\n",
       "      <td>603.89</td>\n",
       "      <td>2057.85</td>\n",
       "      <td>79.64</td>\n",
       "      <td>0.82</td>\n",
       "      <td>61.88</td>\n",
       "    </tr>\n",
       "    <tr>\n",
       "      <th>std</th>\n",
       "      <td>19776.82</td>\n",
       "      <td>4769.68</td>\n",
       "      <td>778.76</td>\n",
       "      <td>4091.99</td>\n",
       "      <td>26975.14</td>\n",
       "      <td>23652.84</td>\n",
       "      <td>4871.55</td>\n",
       "      <td>6301.22</td>\n",
       "      <td>22577.57</td>\n",
       "      <td>2675.00</td>\n",
       "      <td>...</td>\n",
       "      <td>1795.13</td>\n",
       "      <td>3057.64</td>\n",
       "      <td>10921.59</td>\n",
       "      <td>10676.15</td>\n",
       "      <td>12500.05</td>\n",
       "      <td>10636.76</td>\n",
       "      <td>54169.48</td>\n",
       "      <td>137.85</td>\n",
       "      <td>1.20</td>\n",
       "      <td>976.82</td>\n",
       "    </tr>\n",
       "    <tr>\n",
       "      <th>min</th>\n",
       "      <td>4.00</td>\n",
       "      <td>-8021.60</td>\n",
       "      <td>0.00</td>\n",
       "      <td>-7027.48</td>\n",
       "      <td>-1824.75</td>\n",
       "      <td>-0.72</td>\n",
       "      <td>-41.19</td>\n",
       "      <td>-13162.42</td>\n",
       "      <td>-0.91</td>\n",
       "      <td>-0.23</td>\n",
       "      <td>...</td>\n",
       "      <td>-78870.45</td>\n",
       "      <td>-141600.00</td>\n",
       "      <td>-590500.00</td>\n",
       "      <td>-572000.00</td>\n",
       "      <td>-688600.00</td>\n",
       "      <td>0.00</td>\n",
       "      <td>0.00</td>\n",
       "      <td>-199.00</td>\n",
       "      <td>-0.33</td>\n",
       "      <td>-61.00</td>\n",
       "    </tr>\n",
       "    <tr>\n",
       "      <th>25%</th>\n",
       "      <td>3029.25</td>\n",
       "      <td>3.98</td>\n",
       "      <td>3.75</td>\n",
       "      <td>3.89</td>\n",
       "      <td>7.60</td>\n",
       "      <td>0.03</td>\n",
       "      <td>0.57</td>\n",
       "      <td>0.94</td>\n",
       "      <td>4.00</td>\n",
       "      <td>0.73</td>\n",
       "      <td>...</td>\n",
       "      <td>0.00</td>\n",
       "      <td>0.00</td>\n",
       "      <td>0.00</td>\n",
       "      <td>0.00</td>\n",
       "      <td>0.00</td>\n",
       "      <td>8.00</td>\n",
       "      <td>8.00</td>\n",
       "      <td>0.00</td>\n",
       "      <td>0.07</td>\n",
       "      <td>0.27</td>\n",
       "    </tr>\n",
       "    <tr>\n",
       "      <th>50%</th>\n",
       "      <td>6077.50</td>\n",
       "      <td>19.02</td>\n",
       "      <td>8.29</td>\n",
       "      <td>18.58</td>\n",
       "      <td>39.09</td>\n",
       "      <td>7.49</td>\n",
       "      <td>15.87</td>\n",
       "      <td>10.14</td>\n",
       "      <td>24.54</td>\n",
       "      <td>9.23</td>\n",
       "      <td>...</td>\n",
       "      <td>8.07</td>\n",
       "      <td>5.23</td>\n",
       "      <td>4.69</td>\n",
       "      <td>3.89</td>\n",
       "      <td>1.59</td>\n",
       "      <td>49.00</td>\n",
       "      <td>39.00</td>\n",
       "      <td>35.00</td>\n",
       "      <td>0.48</td>\n",
       "      <td>1.53</td>\n",
       "    </tr>\n",
       "    <tr>\n",
       "      <th>75%</th>\n",
       "      <td>24269.50</td>\n",
       "      <td>123.80</td>\n",
       "      <td>19.52</td>\n",
       "      <td>117.30</td>\n",
       "      <td>226.60</td>\n",
       "      <td>72.35</td>\n",
       "      <td>131.90</td>\n",
       "      <td>61.17</td>\n",
       "      <td>135.28</td>\n",
       "      <td>65.65</td>\n",
       "      <td>...</td>\n",
       "      <td>18.99</td>\n",
       "      <td>14.29</td>\n",
       "      <td>14.11</td>\n",
       "      <td>11.39</td>\n",
       "      <td>7.41</td>\n",
       "      <td>106.00</td>\n",
       "      <td>89.00</td>\n",
       "      <td>96.00</td>\n",
       "      <td>1.16</td>\n",
       "      <td>4.91</td>\n",
       "    </tr>\n",
       "    <tr>\n",
       "      <th>max</th>\n",
       "      <td>72493.00</td>\n",
       "      <td>111729.10</td>\n",
       "      <td>42263.46</td>\n",
       "      <td>81657.35</td>\n",
       "      <td>714001.25</td>\n",
       "      <td>652823.81</td>\n",
       "      <td>128477.59</td>\n",
       "      <td>223257.56</td>\n",
       "      <td>721166.00</td>\n",
       "      <td>83232.98</td>\n",
       "      <td>...</td>\n",
       "      <td>19233.33</td>\n",
       "      <td>19195.70</td>\n",
       "      <td>15640.00</td>\n",
       "      <td>15640.00</td>\n",
       "      <td>15266.67</td>\n",
       "      <td>514721.00</td>\n",
       "      <td>2034145.00</td>\n",
       "      <td>996.00</td>\n",
       "      <td>17.63</td>\n",
       "      <td>43404.00</td>\n",
       "    </tr>\n",
       "  </tbody>\n",
       "</table>\n",
       "<p>8 rows × 66 columns</p>\n",
       "</div>"
      ],
      "text/plain": [
       "       Co_Code  Networth_Next_Year  Equity_Paid_Up  Networth  \\\n",
       "count  3586.00             3586.00         3586.00   3586.00   \n",
       "mean  16065.39              725.05           62.97    649.75   \n",
       "std   19776.82             4769.68          778.76   4091.99   \n",
       "min       4.00            -8021.60            0.00  -7027.48   \n",
       "25%    3029.25                3.98            3.75      3.89   \n",
       "50%    6077.50               19.02            8.29     18.58   \n",
       "75%   24269.50              123.80           19.52    117.30   \n",
       "max   72493.00           111729.10        42263.46  81657.35   \n",
       "\n",
       "       Capital_Employed  Total_Debt  Gross_Block_  Net_Working_Capital_  \\\n",
       "count           3586.00     3586.00       3586.00               3586.00   \n",
       "mean            2799.61     1994.82        594.18                410.81   \n",
       "std            26975.14    23652.84       4871.55               6301.22   \n",
       "min            -1824.75       -0.72        -41.19             -13162.42   \n",
       "25%                7.60        0.03          0.57                  0.94   \n",
       "50%               39.09        7.49         15.87                 10.14   \n",
       "75%              226.60       72.35        131.90                 61.17   \n",
       "max           714001.25   652823.81     128477.59             223257.56   \n",
       "\n",
       "       Current_Assets_  Current_Liabilities_and_Provisions_  ...  \\\n",
       "count          3586.00                              3586.00  ...   \n",
       "mean           1960.35                               391.99  ...   \n",
       "std           22577.57                              2675.00  ...   \n",
       "min              -0.91                                -0.23  ...   \n",
       "25%               4.00                                 0.73  ...   \n",
       "50%              24.54                                 9.23  ...   \n",
       "75%             135.28                                65.65  ...   \n",
       "max          721166.00                             83232.98  ...   \n",
       "\n",
       "       PBIDTM_perc[Latest]  PBITM_perc[Latest]  PBDTM_perc[Latest]  \\\n",
       "count              3585.00             3585.00             3585.00   \n",
       "mean                -51.16             -109.21             -311.57   \n",
       "std                1795.13             3057.64            10921.59   \n",
       "min              -78870.45          -141600.00          -590500.00   \n",
       "25%                   0.00                0.00                0.00   \n",
       "50%                   8.07                5.23                4.69   \n",
       "75%                  18.99               14.29               14.11   \n",
       "max               19233.33            19195.70            15640.00   \n",
       "\n",
       "       CPM_perc[Latest]  APATM_perc[Latest]  Debtors_Velocity_Days  \\\n",
       "count           3585.00             3585.00                3586.00   \n",
       "mean            -307.01             -365.06                 603.89   \n",
       "std            10676.15            12500.05               10636.76   \n",
       "min          -572000.00          -688600.00                   0.00   \n",
       "25%                0.00                0.00                   8.00   \n",
       "50%                3.89                1.59                  49.00   \n",
       "75%               11.39                7.41                 106.00   \n",
       "max            15640.00            15266.67              514721.00   \n",
       "\n",
       "       Creditors_Velocity_Days  Inventory_Velocity_Days  \\\n",
       "count                  3586.00                  3483.00   \n",
       "mean                   2057.85                    79.64   \n",
       "std                   54169.48                   137.85   \n",
       "min                       0.00                  -199.00   \n",
       "25%                       8.00                     0.00   \n",
       "50%                      39.00                    35.00   \n",
       "75%                      89.00                    96.00   \n",
       "max                 2034145.00                   996.00   \n",
       "\n",
       "       Value_of_Output_to_Total_Assets  Value_of_Output_to_Gross_Block  \n",
       "count                          3586.00                         3586.00  \n",
       "mean                              0.82                           61.88  \n",
       "std                               1.20                          976.82  \n",
       "min                              -0.33                          -61.00  \n",
       "25%                               0.07                            0.27  \n",
       "50%                               0.48                            1.53  \n",
       "75%                               1.16                            4.91  \n",
       "max                              17.63                        43404.00  \n",
       "\n",
       "[8 rows x 66 columns]"
      ]
     },
     "execution_count": 8,
     "metadata": {},
     "output_type": "execute_result"
    }
   ],
   "source": [
    "Company.describe()"
   ]
  },
  {
   "cell_type": "code",
   "execution_count": 9,
   "id": "3cba5330",
   "metadata": {
    "scrolled": true
   },
   "outputs": [],
   "source": [
    "Company['default'] = np.where((Company['Networth_Next_Year'] > 0), 0, 1)"
   ]
  },
  {
   "cell_type": "code",
   "execution_count": 10,
   "id": "3f3fb1fa",
   "metadata": {
    "scrolled": true
   },
   "outputs": [
    {
     "data": {
      "text/html": [
       "<div>\n",
       "<style scoped>\n",
       "    .dataframe tbody tr th:only-of-type {\n",
       "        vertical-align: middle;\n",
       "    }\n",
       "\n",
       "    .dataframe tbody tr th {\n",
       "        vertical-align: top;\n",
       "    }\n",
       "\n",
       "    .dataframe thead th {\n",
       "        text-align: right;\n",
       "    }\n",
       "</style>\n",
       "<table border=\"1\" class=\"dataframe\">\n",
       "  <thead>\n",
       "    <tr style=\"text-align: right;\">\n",
       "      <th></th>\n",
       "      <th>default</th>\n",
       "      <th>Networth_Next_Year</th>\n",
       "    </tr>\n",
       "  </thead>\n",
       "  <tbody>\n",
       "    <tr>\n",
       "      <th>0</th>\n",
       "      <td>1</td>\n",
       "      <td>-8021.60</td>\n",
       "    </tr>\n",
       "    <tr>\n",
       "      <th>1</th>\n",
       "      <td>1</td>\n",
       "      <td>-3986.19</td>\n",
       "    </tr>\n",
       "    <tr>\n",
       "      <th>2</th>\n",
       "      <td>1</td>\n",
       "      <td>-3192.58</td>\n",
       "    </tr>\n",
       "    <tr>\n",
       "      <th>3</th>\n",
       "      <td>1</td>\n",
       "      <td>-3054.51</td>\n",
       "    </tr>\n",
       "    <tr>\n",
       "      <th>4</th>\n",
       "      <td>1</td>\n",
       "      <td>-2967.36</td>\n",
       "    </tr>\n",
       "  </tbody>\n",
       "</table>\n",
       "</div>"
      ],
      "text/plain": [
       "   default  Networth_Next_Year\n",
       "0        1            -8021.60\n",
       "1        1            -3986.19\n",
       "2        1            -3192.58\n",
       "3        1            -3054.51\n",
       "4        1            -2967.36"
      ]
     },
     "execution_count": 10,
     "metadata": {},
     "output_type": "execute_result"
    }
   ],
   "source": [
    "Company[['default','Networth_Next_Year']].head(5)"
   ]
  },
  {
   "cell_type": "code",
   "execution_count": 11,
   "id": "065565bb",
   "metadata": {
    "scrolled": true
   },
   "outputs": [
    {
     "data": {
      "text/html": [
       "<div>\n",
       "<style scoped>\n",
       "    .dataframe tbody tr th:only-of-type {\n",
       "        vertical-align: middle;\n",
       "    }\n",
       "\n",
       "    .dataframe tbody tr th {\n",
       "        vertical-align: top;\n",
       "    }\n",
       "\n",
       "    .dataframe thead th {\n",
       "        text-align: right;\n",
       "    }\n",
       "</style>\n",
       "<table border=\"1\" class=\"dataframe\">\n",
       "  <thead>\n",
       "    <tr style=\"text-align: right;\">\n",
       "      <th></th>\n",
       "      <th>default</th>\n",
       "      <th>Networth_Next_Year</th>\n",
       "    </tr>\n",
       "  </thead>\n",
       "  <tbody>\n",
       "    <tr>\n",
       "      <th>3581</th>\n",
       "      <td>0</td>\n",
       "      <td>72677.77</td>\n",
       "    </tr>\n",
       "    <tr>\n",
       "      <th>3582</th>\n",
       "      <td>0</td>\n",
       "      <td>79162.19</td>\n",
       "    </tr>\n",
       "    <tr>\n",
       "      <th>3583</th>\n",
       "      <td>0</td>\n",
       "      <td>88134.31</td>\n",
       "    </tr>\n",
       "    <tr>\n",
       "      <th>3584</th>\n",
       "      <td>0</td>\n",
       "      <td>91293.70</td>\n",
       "    </tr>\n",
       "    <tr>\n",
       "      <th>3585</th>\n",
       "      <td>0</td>\n",
       "      <td>111729.10</td>\n",
       "    </tr>\n",
       "  </tbody>\n",
       "</table>\n",
       "</div>"
      ],
      "text/plain": [
       "      default  Networth_Next_Year\n",
       "3581        0            72677.77\n",
       "3582        0            79162.19\n",
       "3583        0            88134.31\n",
       "3584        0            91293.70\n",
       "3585        0           111729.10"
      ]
     },
     "execution_count": 11,
     "metadata": {},
     "output_type": "execute_result"
    }
   ],
   "source": [
    "Company[['default','Networth_Next_Year']].tail(5)"
   ]
  },
  {
   "cell_type": "code",
   "execution_count": 12,
   "id": "44cf0dc1",
   "metadata": {
    "scrolled": true
   },
   "outputs": [
    {
     "data": {
      "text/plain": [
       "0    3198\n",
       "1     388\n",
       "Name: default, dtype: int64"
      ]
     },
     "execution_count": 12,
     "metadata": {},
     "output_type": "execute_result"
    }
   ],
   "source": [
    "Company['default'].value_counts()"
   ]
  },
  {
   "cell_type": "code",
   "execution_count": 13,
   "id": "5706caff",
   "metadata": {
    "scrolled": true
   },
   "outputs": [
    {
     "data": {
      "text/plain": [
       "0   0.89\n",
       "1   0.11\n",
       "Name: default, dtype: float64"
      ]
     },
     "execution_count": 13,
     "metadata": {},
     "output_type": "execute_result"
    }
   ],
   "source": [
    "Company['default'].value_counts(normalize = True)"
   ]
  },
  {
   "cell_type": "code",
   "execution_count": 14,
   "id": "1e461bb9",
   "metadata": {
    "scrolled": true
   },
   "outputs": [
    {
     "data": {
      "text/plain": [
       "Co_Code                              0\n",
       "Co_Name                              0\n",
       "Networth_Next_Year                   0\n",
       "Equity_Paid_Up                       0\n",
       "Networth                             0\n",
       "                                  ... \n",
       "Creditors_Velocity_Days              0\n",
       "Inventory_Velocity_Days            103\n",
       "Value_of_Output_to_Total_Assets      0\n",
       "Value_of_Output_to_Gross_Block       0\n",
       "default                              0\n",
       "Length: 68, dtype: int64"
      ]
     },
     "execution_count": 14,
     "metadata": {},
     "output_type": "execute_result"
    }
   ],
   "source": [
    "Company.isnull().sum()"
   ]
  },
  {
   "cell_type": "code",
   "execution_count": 15,
   "id": "a785d1dd",
   "metadata": {
    "scrolled": true
   },
   "outputs": [
    {
     "data": {
      "text/plain": [
       "243848"
      ]
     },
     "execution_count": 15,
     "metadata": {},
     "output_type": "execute_result"
    }
   ],
   "source": [
    "Company.size"
   ]
  },
  {
   "cell_type": "code",
   "execution_count": 16,
   "id": "31b98186",
   "metadata": {
    "scrolled": true
   },
   "outputs": [
    {
     "data": {
      "text/plain": [
       "118"
      ]
     },
     "execution_count": 16,
     "metadata": {},
     "output_type": "execute_result"
    }
   ],
   "source": [
    "Company.isnull().sum().sum()"
   ]
  },
  {
   "cell_type": "code",
   "execution_count": 17,
   "id": "196ed415",
   "metadata": {
    "scrolled": true
   },
   "outputs": [],
   "source": [
    "Company_X = Company.drop('default', axis = 1)\n",
    "Company_Y = Company['default']"
   ]
  },
  {
   "cell_type": "code",
   "execution_count": 18,
   "id": "b3c73d3a",
   "metadata": {
    "scrolled": false
   },
   "outputs": [
    {
     "data": {
      "text/html": [
       "<div>\n",
       "<style scoped>\n",
       "    .dataframe tbody tr th:only-of-type {\n",
       "        vertical-align: middle;\n",
       "    }\n",
       "\n",
       "    .dataframe tbody tr th {\n",
       "        vertical-align: top;\n",
       "    }\n",
       "\n",
       "    .dataframe thead th {\n",
       "        text-align: right;\n",
       "    }\n",
       "</style>\n",
       "<table border=\"1\" class=\"dataframe\">\n",
       "  <thead>\n",
       "    <tr style=\"text-align: right;\">\n",
       "      <th></th>\n",
       "      <th>Co_Code</th>\n",
       "      <th>Co_Name</th>\n",
       "      <th>Networth_Next_Year</th>\n",
       "      <th>Equity_Paid_Up</th>\n",
       "      <th>Networth</th>\n",
       "      <th>Capital_Employed</th>\n",
       "      <th>Total_Debt</th>\n",
       "      <th>Gross_Block_</th>\n",
       "      <th>Net_Working_Capital_</th>\n",
       "      <th>Current_Assets_</th>\n",
       "      <th>...</th>\n",
       "      <th>PBIDTM_perc[Latest]</th>\n",
       "      <th>PBITM_perc[Latest]</th>\n",
       "      <th>PBDTM_perc[Latest]</th>\n",
       "      <th>CPM_perc[Latest]</th>\n",
       "      <th>APATM_perc[Latest]</th>\n",
       "      <th>Debtors_Velocity_Days</th>\n",
       "      <th>Creditors_Velocity_Days</th>\n",
       "      <th>Inventory_Velocity_Days</th>\n",
       "      <th>Value_of_Output_to_Total_Assets</th>\n",
       "      <th>Value_of_Output_to_Gross_Block</th>\n",
       "    </tr>\n",
       "  </thead>\n",
       "  <tbody>\n",
       "    <tr>\n",
       "      <th>0</th>\n",
       "      <td>16974</td>\n",
       "      <td>Hind.Cables</td>\n",
       "      <td>-8021.60</td>\n",
       "      <td>419.36</td>\n",
       "      <td>-7027.48</td>\n",
       "      <td>-1007.24</td>\n",
       "      <td>5936.03</td>\n",
       "      <td>474.30</td>\n",
       "      <td>-1076.34</td>\n",
       "      <td>40.50</td>\n",
       "      <td>...</td>\n",
       "      <td>0.00</td>\n",
       "      <td>0.00</td>\n",
       "      <td>0.00</td>\n",
       "      <td>0.00</td>\n",
       "      <td>0.00</td>\n",
       "      <td>0</td>\n",
       "      <td>0</td>\n",
       "      <td>45.00</td>\n",
       "      <td>0.00</td>\n",
       "      <td>0.00</td>\n",
       "    </tr>\n",
       "    <tr>\n",
       "      <th>1</th>\n",
       "      <td>21214</td>\n",
       "      <td>Tata Tele. Mah.</td>\n",
       "      <td>-3986.19</td>\n",
       "      <td>1954.93</td>\n",
       "      <td>-2968.08</td>\n",
       "      <td>4458.20</td>\n",
       "      <td>7410.18</td>\n",
       "      <td>9070.86</td>\n",
       "      <td>-1098.88</td>\n",
       "      <td>486.86</td>\n",
       "      <td>...</td>\n",
       "      <td>-10.30</td>\n",
       "      <td>-39.74</td>\n",
       "      <td>-57.74</td>\n",
       "      <td>-57.74</td>\n",
       "      <td>-87.18</td>\n",
       "      <td>29</td>\n",
       "      <td>101</td>\n",
       "      <td>2.00</td>\n",
       "      <td>0.31</td>\n",
       "      <td>0.24</td>\n",
       "    </tr>\n",
       "    <tr>\n",
       "      <th>2</th>\n",
       "      <td>14852</td>\n",
       "      <td>ABG Shipyard</td>\n",
       "      <td>-3192.58</td>\n",
       "      <td>53.84</td>\n",
       "      <td>506.86</td>\n",
       "      <td>7714.68</td>\n",
       "      <td>6944.54</td>\n",
       "      <td>1281.54</td>\n",
       "      <td>4496.25</td>\n",
       "      <td>9097.64</td>\n",
       "      <td>...</td>\n",
       "      <td>-5279.14</td>\n",
       "      <td>-5516.98</td>\n",
       "      <td>-7780.25</td>\n",
       "      <td>-7723.67</td>\n",
       "      <td>-7961.51</td>\n",
       "      <td>97</td>\n",
       "      <td>558</td>\n",
       "      <td>0.00</td>\n",
       "      <td>-0.03</td>\n",
       "      <td>-0.26</td>\n",
       "    </tr>\n",
       "    <tr>\n",
       "      <th>3</th>\n",
       "      <td>2439</td>\n",
       "      <td>GTL</td>\n",
       "      <td>-3054.51</td>\n",
       "      <td>157.30</td>\n",
       "      <td>-623.49</td>\n",
       "      <td>2353.88</td>\n",
       "      <td>2326.05</td>\n",
       "      <td>1033.69</td>\n",
       "      <td>-2612.42</td>\n",
       "      <td>1034.12</td>\n",
       "      <td>...</td>\n",
       "      <td>-3.33</td>\n",
       "      <td>-7.21</td>\n",
       "      <td>-48.13</td>\n",
       "      <td>-47.70</td>\n",
       "      <td>-51.58</td>\n",
       "      <td>93</td>\n",
       "      <td>63</td>\n",
       "      <td>2.00</td>\n",
       "      <td>0.24</td>\n",
       "      <td>1.90</td>\n",
       "    </tr>\n",
       "    <tr>\n",
       "      <th>4</th>\n",
       "      <td>23505</td>\n",
       "      <td>Bharati Defence</td>\n",
       "      <td>-2967.36</td>\n",
       "      <td>50.30</td>\n",
       "      <td>-1070.83</td>\n",
       "      <td>4675.33</td>\n",
       "      <td>5740.90</td>\n",
       "      <td>1084.20</td>\n",
       "      <td>1836.23</td>\n",
       "      <td>4685.81</td>\n",
       "      <td>...</td>\n",
       "      <td>-295.55</td>\n",
       "      <td>-400.55</td>\n",
       "      <td>-845.88</td>\n",
       "      <td>379.79</td>\n",
       "      <td>274.79</td>\n",
       "      <td>3887</td>\n",
       "      <td>346</td>\n",
       "      <td>0.00</td>\n",
       "      <td>0.01</td>\n",
       "      <td>0.05</td>\n",
       "    </tr>\n",
       "    <tr>\n",
       "      <th>...</th>\n",
       "      <td>...</td>\n",
       "      <td>...</td>\n",
       "      <td>...</td>\n",
       "      <td>...</td>\n",
       "      <td>...</td>\n",
       "      <td>...</td>\n",
       "      <td>...</td>\n",
       "      <td>...</td>\n",
       "      <td>...</td>\n",
       "      <td>...</td>\n",
       "      <td>...</td>\n",
       "      <td>...</td>\n",
       "      <td>...</td>\n",
       "      <td>...</td>\n",
       "      <td>...</td>\n",
       "      <td>...</td>\n",
       "      <td>...</td>\n",
       "      <td>...</td>\n",
       "      <td>...</td>\n",
       "      <td>...</td>\n",
       "      <td>...</td>\n",
       "    </tr>\n",
       "    <tr>\n",
       "      <th>3581</th>\n",
       "      <td>4987</td>\n",
       "      <td>HDFC Bank</td>\n",
       "      <td>72677.77</td>\n",
       "      <td>501.30</td>\n",
       "      <td>62009.42</td>\n",
       "      <td>590576.00</td>\n",
       "      <td>496009.19</td>\n",
       "      <td>8463.30</td>\n",
       "      <td>0.00</td>\n",
       "      <td>444633.50</td>\n",
       "      <td>...</td>\n",
       "      <td>0.00</td>\n",
       "      <td>0.00</td>\n",
       "      <td>0.00</td>\n",
       "      <td>0.00</td>\n",
       "      <td>0.00</td>\n",
       "      <td>0</td>\n",
       "      <td>0</td>\n",
       "      <td>NaN</td>\n",
       "      <td>0.60</td>\n",
       "      <td>7.76</td>\n",
       "    </tr>\n",
       "    <tr>\n",
       "      <th>3582</th>\n",
       "      <td>502</td>\n",
       "      <td>Vedanta</td>\n",
       "      <td>79162.19</td>\n",
       "      <td>296.50</td>\n",
       "      <td>34057.87</td>\n",
       "      <td>71906.06</td>\n",
       "      <td>37643.79</td>\n",
       "      <td>29848.44</td>\n",
       "      <td>2503.86</td>\n",
       "      <td>11554.45</td>\n",
       "      <td>...</td>\n",
       "      <td>39.92</td>\n",
       "      <td>32.17</td>\n",
       "      <td>29.81</td>\n",
       "      <td>30.52</td>\n",
       "      <td>22.77</td>\n",
       "      <td>13</td>\n",
       "      <td>53</td>\n",
       "      <td>77.00</td>\n",
       "      <td>0.29</td>\n",
       "      <td>1.00</td>\n",
       "    </tr>\n",
       "    <tr>\n",
       "      <th>3583</th>\n",
       "      <td>12002</td>\n",
       "      <td>I O C L</td>\n",
       "      <td>88134.31</td>\n",
       "      <td>2427.95</td>\n",
       "      <td>67969.97</td>\n",
       "      <td>140686.75</td>\n",
       "      <td>55245.01</td>\n",
       "      <td>121643.45</td>\n",
       "      <td>6376.84</td>\n",
       "      <td>89609.82</td>\n",
       "      <td>...</td>\n",
       "      <td>8.09</td>\n",
       "      <td>6.69</td>\n",
       "      <td>7.31</td>\n",
       "      <td>5.69</td>\n",
       "      <td>4.29</td>\n",
       "      <td>7</td>\n",
       "      <td>30</td>\n",
       "      <td>48.00</td>\n",
       "      <td>1.42</td>\n",
       "      <td>3.24</td>\n",
       "    </tr>\n",
       "    <tr>\n",
       "      <th>3584</th>\n",
       "      <td>12001</td>\n",
       "      <td>NTPC</td>\n",
       "      <td>91293.70</td>\n",
       "      <td>8245.46</td>\n",
       "      <td>81657.35</td>\n",
       "      <td>173099.14</td>\n",
       "      <td>85995.34</td>\n",
       "      <td>128477.59</td>\n",
       "      <td>11449.79</td>\n",
       "      <td>42353.59</td>\n",
       "      <td>...</td>\n",
       "      <td>28.12</td>\n",
       "      <td>20.55</td>\n",
       "      <td>23.39</td>\n",
       "      <td>19.55</td>\n",
       "      <td>11.99</td>\n",
       "      <td>32</td>\n",
       "      <td>69</td>\n",
       "      <td>42.00</td>\n",
       "      <td>0.36</td>\n",
       "      <td>0.68</td>\n",
       "    </tr>\n",
       "    <tr>\n",
       "      <th>3585</th>\n",
       "      <td>15542</td>\n",
       "      <td>Bharti Airtel</td>\n",
       "      <td>111729.10</td>\n",
       "      <td>1998.70</td>\n",
       "      <td>78270.80</td>\n",
       "      <td>104241.00</td>\n",
       "      <td>21569.70</td>\n",
       "      <td>100084.90</td>\n",
       "      <td>-12145.30</td>\n",
       "      <td>11947.10</td>\n",
       "      <td>...</td>\n",
       "      <td>42.47</td>\n",
       "      <td>22.88</td>\n",
       "      <td>34.04</td>\n",
       "      <td>25.97</td>\n",
       "      <td>6.37</td>\n",
       "      <td>18</td>\n",
       "      <td>74</td>\n",
       "      <td>0.00</td>\n",
       "      <td>0.42</td>\n",
       "      <td>0.49</td>\n",
       "    </tr>\n",
       "  </tbody>\n",
       "</table>\n",
       "<p>3586 rows × 67 columns</p>\n",
       "</div>"
      ],
      "text/plain": [
       "      Co_Code          Co_Name  Networth_Next_Year  Equity_Paid_Up  Networth  \\\n",
       "0       16974      Hind.Cables            -8021.60          419.36  -7027.48   \n",
       "1       21214  Tata Tele. Mah.            -3986.19         1954.93  -2968.08   \n",
       "2       14852     ABG Shipyard            -3192.58           53.84    506.86   \n",
       "3        2439              GTL            -3054.51          157.30   -623.49   \n",
       "4       23505  Bharati Defence            -2967.36           50.30  -1070.83   \n",
       "...       ...              ...                 ...             ...       ...   \n",
       "3581     4987        HDFC Bank            72677.77          501.30  62009.42   \n",
       "3582      502          Vedanta            79162.19          296.50  34057.87   \n",
       "3583    12002          I O C L            88134.31         2427.95  67969.97   \n",
       "3584    12001             NTPC            91293.70         8245.46  81657.35   \n",
       "3585    15542    Bharti Airtel           111729.10         1998.70  78270.80   \n",
       "\n",
       "      Capital_Employed  Total_Debt  Gross_Block_  Net_Working_Capital_  \\\n",
       "0             -1007.24     5936.03        474.30              -1076.34   \n",
       "1              4458.20     7410.18       9070.86              -1098.88   \n",
       "2              7714.68     6944.54       1281.54               4496.25   \n",
       "3              2353.88     2326.05       1033.69              -2612.42   \n",
       "4              4675.33     5740.90       1084.20               1836.23   \n",
       "...                ...         ...           ...                   ...   \n",
       "3581         590576.00   496009.19       8463.30                  0.00   \n",
       "3582          71906.06    37643.79      29848.44               2503.86   \n",
       "3583         140686.75    55245.01     121643.45               6376.84   \n",
       "3584         173099.14    85995.34     128477.59              11449.79   \n",
       "3585         104241.00    21569.70     100084.90             -12145.30   \n",
       "\n",
       "      Current_Assets_  ...  PBIDTM_perc[Latest]  PBITM_perc[Latest]  \\\n",
       "0               40.50  ...                 0.00                0.00   \n",
       "1              486.86  ...               -10.30              -39.74   \n",
       "2             9097.64  ...             -5279.14            -5516.98   \n",
       "3             1034.12  ...                -3.33               -7.21   \n",
       "4             4685.81  ...              -295.55             -400.55   \n",
       "...               ...  ...                  ...                 ...   \n",
       "3581        444633.50  ...                 0.00                0.00   \n",
       "3582         11554.45  ...                39.92               32.17   \n",
       "3583         89609.82  ...                 8.09                6.69   \n",
       "3584         42353.59  ...                28.12               20.55   \n",
       "3585         11947.10  ...                42.47               22.88   \n",
       "\n",
       "      PBDTM_perc[Latest]  CPM_perc[Latest]  APATM_perc[Latest]  \\\n",
       "0                   0.00              0.00                0.00   \n",
       "1                 -57.74            -57.74              -87.18   \n",
       "2               -7780.25          -7723.67            -7961.51   \n",
       "3                 -48.13            -47.70              -51.58   \n",
       "4                -845.88            379.79              274.79   \n",
       "...                  ...               ...                 ...   \n",
       "3581                0.00              0.00                0.00   \n",
       "3582               29.81             30.52               22.77   \n",
       "3583                7.31              5.69                4.29   \n",
       "3584               23.39             19.55               11.99   \n",
       "3585               34.04             25.97                6.37   \n",
       "\n",
       "      Debtors_Velocity_Days  Creditors_Velocity_Days  Inventory_Velocity_Days  \\\n",
       "0                         0                        0                    45.00   \n",
       "1                        29                      101                     2.00   \n",
       "2                        97                      558                     0.00   \n",
       "3                        93                       63                     2.00   \n",
       "4                      3887                      346                     0.00   \n",
       "...                     ...                      ...                      ...   \n",
       "3581                      0                        0                      NaN   \n",
       "3582                     13                       53                    77.00   \n",
       "3583                      7                       30                    48.00   \n",
       "3584                     32                       69                    42.00   \n",
       "3585                     18                       74                     0.00   \n",
       "\n",
       "      Value_of_Output_to_Total_Assets  Value_of_Output_to_Gross_Block  \n",
       "0                                0.00                            0.00  \n",
       "1                                0.31                            0.24  \n",
       "2                               -0.03                           -0.26  \n",
       "3                                0.24                            1.90  \n",
       "4                                0.01                            0.05  \n",
       "...                               ...                             ...  \n",
       "3581                             0.60                            7.76  \n",
       "3582                             0.29                            1.00  \n",
       "3583                             1.42                            3.24  \n",
       "3584                             0.36                            0.68  \n",
       "3585                             0.42                            0.49  \n",
       "\n",
       "[3586 rows x 67 columns]"
      ]
     },
     "execution_count": 18,
     "metadata": {},
     "output_type": "execute_result"
    }
   ],
   "source": [
    "Company_X"
   ]
  },
  {
   "cell_type": "code",
   "execution_count": 19,
   "id": "4cddf833",
   "metadata": {
    "scrolled": true
   },
   "outputs": [],
   "source": [
    "Q1 = Company_X.quantile(0.25)\n",
    "Q3 = Company_X.quantile(0.75)\n",
    "IQR = Q3 - Q1\n",
    "UL = Q3 + 1.5*IQR\n",
    "LL = Q1 - 1.5*IQR"
   ]
  },
  {
   "cell_type": "code",
   "execution_count": 20,
   "id": "673b3d15",
   "metadata": {
    "scrolled": true
   },
   "outputs": [
    {
     "data": {
      "text/plain": [
       "APATM_perc[Latest]                 933\n",
       "Adjusted_PAT                       954\n",
       "Book_Value_Adj._Unit_Curr          486\n",
       "Book_Value_Unit_Curr               485\n",
       "CEPS_annualised_Unit_Curr          602\n",
       "                                  ... \n",
       "Total_Assets_to_Liabilities_       574\n",
       "Total_Debt                         583\n",
       "Value_Of_Output                    559\n",
       "Value_of_Output_to_Gross_Block     481\n",
       "Value_of_Output_to_Total_Assets    150\n",
       "Length: 67, dtype: int64"
      ]
     },
     "execution_count": 20,
     "metadata": {},
     "output_type": "execute_result"
    }
   ],
   "source": [
    "((Company_X > UL) | (Company_X < LL)).sum()"
   ]
  },
  {
   "cell_type": "code",
   "execution_count": 21,
   "id": "5f684a2f",
   "metadata": {
    "scrolled": true
   },
   "outputs": [],
   "source": [
    "Company_X[((Company_X > UL) | (Company_X < LL))]= np.nan"
   ]
  },
  {
   "cell_type": "code",
   "execution_count": 22,
   "id": "09f768bb",
   "metadata": {
    "scrolled": true
   },
   "outputs": [
    {
     "data": {
      "text/plain": [
       "Co_Code                            291\n",
       "Co_Name                              0\n",
       "Networth_Next_Year                 676\n",
       "Equity_Paid_Up                     448\n",
       "Networth                           650\n",
       "                                  ... \n",
       "Debtors_Velocity_Days              398\n",
       "Creditors_Velocity_Days            391\n",
       "Inventory_Velocity_Days            365\n",
       "Value_of_Output_to_Total_Assets    150\n",
       "Value_of_Output_to_Gross_Block     481\n",
       "Length: 67, dtype: int64"
      ]
     },
     "execution_count": 22,
     "metadata": {},
     "output_type": "execute_result"
    }
   ],
   "source": [
    "Company_X.isnull().sum()"
   ]
  },
  {
   "cell_type": "code",
   "execution_count": 23,
   "id": "c22e22a7",
   "metadata": {
    "scrolled": true
   },
   "outputs": [
    {
     "data": {
      "text/plain": [
       "42440"
      ]
     },
     "execution_count": 23,
     "metadata": {},
     "output_type": "execute_result"
    }
   ],
   "source": [
    "Company_X.isnull().sum().sum()"
   ]
  },
  {
   "cell_type": "code",
   "execution_count": 24,
   "id": "0104c5e7",
   "metadata": {
    "scrolled": true
   },
   "outputs": [],
   "source": [
    "Company_X = Company_X.drop(['Co_Name', 'Networth_Next_Year'], axis = 1)"
   ]
  },
  {
   "cell_type": "code",
   "execution_count": 25,
   "id": "63d99a53",
   "metadata": {
    "scrolled": true
   },
   "outputs": [
    {
     "data": {
      "text/plain": [
       "(3586, 65)"
      ]
     },
     "execution_count": 25,
     "metadata": {},
     "output_type": "execute_result"
    }
   ],
   "source": [
    "Company_X.shape"
   ]
  },
  {
   "cell_type": "code",
   "execution_count": 26,
   "id": "44ff40ec",
   "metadata": {
    "scrolled": true
   },
   "outputs": [],
   "source": [
    "Company_sub1 = pd.concat([Company_X, Company_Y], axis =1 )"
   ]
  },
  {
   "cell_type": "code",
   "execution_count": 62,
   "id": "3e42d1b8",
   "metadata": {
    "scrolled": false
   },
   "outputs": [
    {
     "data": {
      "image/png": "[encoded data removed]",
      "text/plain": [
       "<Figure size 864x864 with 1 Axes>"
      ]
     },
     "metadata": {
      "needs_background": "light"
     },
     "output_type": "display_data"
    }
   ],
   "source": [
    "plt.figure(figsize = (12,12))\n",
    "sns.heatmap(Company_sub1.isnull(), cbar = False, cmap = 'coolwarm', yticklabels = False)\n",
    "plt.show()\n"
   ]
  },
  {
   "cell_type": "code",
   "execution_count": 28,
   "id": "16de8d18",
   "metadata": {
    "scrolled": true
   },
   "outputs": [
    {
     "data": {
      "text/plain": [
       "0       19\n",
       "1       34\n",
       "2       43\n",
       "3       36\n",
       "4       35\n",
       "        ..\n",
       "3581    30\n",
       "3582    36\n",
       "3583    34\n",
       "3584    30\n",
       "3585    36\n",
       "Length: 3586, dtype: int64"
      ]
     },
     "execution_count": 28,
     "metadata": {},
     "output_type": "execute_result"
    }
   ],
   "source": [
    "Company_sub1.isnull().sum(axis = 1)"
   ]
  },
  {
   "cell_type": "code",
   "execution_count": 29,
   "id": "098df5af",
   "metadata": {
    "scrolled": true
   },
   "outputs": [],
   "source": [
    "Company_sub1_temp = Company_sub1[Company_sub1.isnull().sum(axis = 1) <= 5]"
   ]
  },
  {
   "cell_type": "code",
   "execution_count": 30,
   "id": "daf408e0",
   "metadata": {
    "scrolled": true
   },
   "outputs": [
    {
     "data": {
      "text/plain": [
       "(1179, 66)"
      ]
     },
     "execution_count": 30,
     "metadata": {},
     "output_type": "execute_result"
    }
   ],
   "source": [
    "Company_sub1_temp.shape"
   ]
  },
  {
   "cell_type": "code",
   "execution_count": 31,
   "id": "d76123f9",
   "metadata": {
    "scrolled": true
   },
   "outputs": [
    {
     "data": {
      "text/plain": [
       "0    1061\n",
       "1     118\n",
       "Name: default, dtype: int64"
      ]
     },
     "execution_count": 31,
     "metadata": {},
     "output_type": "execute_result"
    }
   ],
   "source": [
    "Company_sub1_temp['default'].value_counts()"
   ]
  },
  {
   "cell_type": "code",
   "execution_count": 32,
   "id": "b1729e63",
   "metadata": {
    "scrolled": true
   },
   "outputs": [
    {
     "data": {
      "text/plain": [
       "0.30412371134020616"
      ]
     },
     "execution_count": 32,
     "metadata": {},
     "output_type": "execute_result"
    }
   ],
   "source": [
    "118/388"
   ]
  },
  {
   "cell_type": "code",
   "execution_count": 33,
   "id": "8dff5bc1",
   "metadata": {
    "scrolled": true
   },
   "outputs": [
    {
     "data": {
      "text/plain": [
       "0    3198\n",
       "1     388\n",
       "Name: default, dtype: int64"
      ]
     },
     "execution_count": 33,
     "metadata": {},
     "output_type": "execute_result"
    }
   ],
   "source": [
    "Company_sub1['default'].value_counts()"
   ]
  },
  {
   "cell_type": "code",
   "execution_count": 34,
   "id": "6a75e7f0",
   "metadata": {
    "scrolled": false
   },
   "outputs": [
    {
     "data": {
      "text/plain": [
       "ROG-Revenue_expenses_in_forex_perc    0.45\n",
       "ROG-Revenue_earnings_in_forex_perc    0.37\n",
       "Cash_Flow_From_Financing_Activities   0.28\n",
       "PAT                                   0.27\n",
       "Adjusted_PAT                          0.27\n",
       "                                      ... \n",
       "Inventory_Velocity_Days               0.10\n",
       "Co_Code                               0.08\n",
       "Total_Asset_Turnover_Ratio[Latest]    0.06\n",
       "Value_of_Output_to_Total_Assets       0.04\n",
       "default                               0.00\n",
       "Length: 66, dtype: float64"
      ]
     },
     "execution_count": 34,
     "metadata": {},
     "output_type": "execute_result"
    }
   ],
   "source": [
    "Company_sub1.isnull().sum().sort_values(ascending = False)/Company_sub1.index.size"
   ]
  },
  {
   "cell_type": "code",
   "execution_count": 35,
   "id": "8a63fce9",
   "metadata": {},
   "outputs": [],
   "source": [
    "Company_sub2 = Company_sub1.drop(['ROG-Revenue_expenses_in_forex_perc', 'ROG-Revenue_earnings_in_forex_perc', \n",
    "                             'Cash_Flow_From_Financing_Activities'],\n",
    "                           axis = 1)"
   ]
  },
  {
   "cell_type": "code",
   "execution_count": 36,
   "id": "a6fc7251",
   "metadata": {},
   "outputs": [
    {
     "data": {
      "text/plain": [
       "(3586, 63)"
      ]
     },
     "execution_count": 36,
     "metadata": {},
     "output_type": "execute_result"
    }
   ],
   "source": [
    "Company_sub2.shape"
   ]
  },
  {
   "cell_type": "code",
   "execution_count": 37,
   "id": "d0cb738c",
   "metadata": {},
   "outputs": [],
   "source": [
    "predictors = Company_sub2.drop('default', axis = 1)\n",
    "response = Company_sub2['default']"
   ]
  },
  {
   "cell_type": "code",
   "execution_count": 38,
   "id": "41a1fbe6",
   "metadata": {},
   "outputs": [
    {
     "name": "stdout",
     "output_type": "stream",
     "text": [
      "<class 'pandas.core.frame.DataFrame'>\n",
      "RangeIndex: 3586 entries, 0 to 3585\n",
      "Data columns (total 63 columns):\n",
      " #   Column                               Non-Null Count  Dtype  \n",
      "---  ------                               --------------  -----  \n",
      " 0   Co_Code                              3295 non-null   float64\n",
      " 1   Equity_Paid_Up                       3138 non-null   float64\n",
      " 2   Networth                             2936 non-null   float64\n",
      " 3   Capital_Employed                     2990 non-null   float64\n",
      " 4   Total_Debt                           3003 non-null   float64\n",
      " 5   Gross_Block_                         3046 non-null   float64\n",
      " 6   Net_Working_Capital_                 2961 non-null   float64\n",
      " 7   Current_Assets_                      3009 non-null   float64\n",
      " 8   Current_Liabilities_and_Provisions_  3005 non-null   float64\n",
      " 9   Total_Assets_to_Liabilities_         3012 non-null   float64\n",
      " 10  Gross_Sales                          3032 non-null   float64\n",
      " 11  Net_Sales                            3030 non-null   float64\n",
      " 12  Other_Income                         2983 non-null   float64\n",
      " 13  Value_Of_Output                      3027 non-null   float64\n",
      " 14  Cost_of_Production                   3026 non-null   float64\n",
      " 15  Selling_Cost                         2981 non-null   float64\n",
      " 16  PBIDT                                2915 non-null   float64\n",
      " 17  PBDT                                 2771 non-null   float64\n",
      " 18  PBIT                                 2866 non-null   float64\n",
      " 19  PBT                                  2645 non-null   float64\n",
      " 20  PAT                                  2627 non-null   float64\n",
      " 21  Adjusted_PAT                         2632 non-null   float64\n",
      " 22  CP                                   2770 non-null   float64\n",
      " 23  Revenue_earnings_in_forex            2848 non-null   float64\n",
      " 24  Revenue_expenses_in_forex            2893 non-null   float64\n",
      " 25  Capital_expenses_in_forex            2892 non-null   float64\n",
      " 26  Book_Value_Unit_Curr                 3101 non-null   float64\n",
      " 27  Book_Value_Adj._Unit_Curr            3096 non-null   float64\n",
      " 28  Market_Capitalisation                2947 non-null   float64\n",
      " 29  CEPS_annualised_Unit_Curr            2984 non-null   float64\n",
      " 30  Cash_Flow_From_Operating_Activities  2785 non-null   float64\n",
      " 31  Cash_Flow_From_Investing_Activities  2710 non-null   float64\n",
      " 32  ROG-Net_Worth_perc                   2839 non-null   float64\n",
      " 33  ROG-Capital_Employed_perc            3014 non-null   float64\n",
      " 34  ROG-Gross_Block_perc                 2756 non-null   float64\n",
      " 35  ROG-Gross_Sales_perc                 2915 non-null   float64\n",
      " 36  ROG-Net_Sales_perc                   2919 non-null   float64\n",
      " 37  ROG-Cost_of_Production_perc          2911 non-null   float64\n",
      " 38  ROG-Total_Assets_perc                3103 non-null   float64\n",
      " 39  ROG-PBIDT_perc                       2975 non-null   float64\n",
      " 40  ROG-PBDT_perc                        2958 non-null   float64\n",
      " 41  ROG-PBIT_perc                        2970 non-null   float64\n",
      " 42  ROG-PBT_perc                         2975 non-null   float64\n",
      " 43  ROG-PAT_perc                         2988 non-null   float64\n",
      " 44  ROG-CP_perc                          2949 non-null   float64\n",
      " 45  ROG-Market_Capitalisation_perc       3089 non-null   float64\n",
      " 46  Current_Ratio[Latest]                3020 non-null   float64\n",
      " 47  Fixed_Assets_Ratio[Latest]           3090 non-null   float64\n",
      " 48  Inventory_Ratio[Latest]              3210 non-null   float64\n",
      " 49  Debtors_Ratio[Latest]                3214 non-null   float64\n",
      " 50  Total_Asset_Turnover_Ratio[Latest]   3384 non-null   float64\n",
      " 51  Interest_Cover_Ratio[Latest]         2860 non-null   float64\n",
      " 52  PBIDTM_perc[Latest]                  2990 non-null   float64\n",
      " 53  PBITM_perc[Latest]                   2868 non-null   float64\n",
      " 54  PBDTM_perc[Latest]                   2890 non-null   float64\n",
      " 55  CPM_perc[Latest]                     2865 non-null   float64\n",
      " 56  APATM_perc[Latest]                   2652 non-null   float64\n",
      " 57  Debtors_Velocity_Days                3188 non-null   float64\n",
      " 58  Creditors_Velocity_Days              3195 non-null   float64\n",
      " 59  Inventory_Velocity_Days              3221 non-null   float64\n",
      " 60  Value_of_Output_to_Total_Assets      3436 non-null   float64\n",
      " 61  Value_of_Output_to_Gross_Block       3105 non-null   float64\n",
      " 62  default                              3586 non-null   int32  \n",
      "dtypes: float64(62), int32(1)\n",
      "memory usage: 1.7 MB\n"
     ]
    }
   ],
   "source": [
    "Company_sub2.info()"
   ]
  },
  {
   "cell_type": "code",
   "execution_count": 39,
   "id": "34878c06",
   "metadata": {},
   "outputs": [],
   "source": [
    "from sklearn.preprocessing import StandardScaler\n",
    "scaler = StandardScaler()\n",
    "scaled_predictors = pd.DataFrame(scaler.fit_transform(predictors), columns = predictors.columns)"
   ]
  },
  {
   "cell_type": "code",
   "execution_count": 40,
   "id": "5a7438af",
   "metadata": {},
   "outputs": [],
   "source": [
    "Company_sub3 = pd.concat([scaled_predictors, response], axis = 1)"
   ]
  },
  {
   "cell_type": "code",
   "execution_count": 41,
   "id": "9b9c25b8",
   "metadata": {},
   "outputs": [],
   "source": [
    "from sklearn.impute import KNNImputer"
   ]
  },
  {
   "cell_type": "code",
   "execution_count": 42,
   "id": "4195f9ea",
   "metadata": {},
   "outputs": [],
   "source": [
    "imputer = KNNImputer(n_neighbors=10)"
   ]
  },
  {
   "cell_type": "code",
   "execution_count": 43,
   "id": "0d2c52ed",
   "metadata": {},
   "outputs": [],
   "source": [
    "Company_imputed = pd.DataFrame(imputer.fit_transform(Company_sub3), columns = Company_sub3.columns)"
   ]
  },
  {
   "cell_type": "code",
   "execution_count": 44,
   "id": "94a786d5",
   "metadata": {},
   "outputs": [
    {
     "data": {
      "text/plain": [
       "Co_Code                            0\n",
       "Equity_Paid_Up                     0\n",
       "Networth                           0\n",
       "Capital_Employed                   0\n",
       "Total_Debt                         0\n",
       "                                  ..\n",
       "Creditors_Velocity_Days            0\n",
       "Inventory_Velocity_Days            0\n",
       "Value_of_Output_to_Total_Assets    0\n",
       "Value_of_Output_to_Gross_Block     0\n",
       "default                            0\n",
       "Length: 63, dtype: int64"
      ]
     },
     "execution_count": 44,
     "metadata": {},
     "output_type": "execute_result"
    }
   ],
   "source": [
    "Company_imputed.isnull().sum()"
   ]
  },
  {
   "cell_type": "code",
   "execution_count": 45,
   "id": "102981d3",
   "metadata": {},
   "outputs": [
    {
     "data": {
      "text/plain": [
       "<AxesSubplot:>"
      ]
     },
     "execution_count": 45,
     "metadata": {},
     "output_type": "execute_result"
    },
    {
     "data": {
      "image/png": "[encoded data removed]",
      "text/plain": [
       "<Figure size 864x576 with 2 Axes>"
      ]
     },
     "metadata": {
      "needs_background": "light"
     },
     "output_type": "display_data"
    }
   ],
   "source": [
    "plt.figure(figsize = (12,8))\n",
    "cor_matrix = Company_imputed.drop('default', axis = 1).corr()\n",
    "sns.heatmap(cor_matrix, cmap = 'plasma', vmin = -1, vmax= 1)"
   ]
  },
  {
   "cell_type": "code",
   "execution_count": 46,
   "id": "bc7dc7d4",
   "metadata": {},
   "outputs": [],
   "source": [
    "predictors1 = Company_imputed.drop('default', axis = 1)\n",
    "response2 = Company_imputed['default']"
   ]
  },
  {
   "cell_type": "code",
   "execution_count": 47,
   "id": "4ddf0645",
   "metadata": {},
   "outputs": [],
   "source": [
    "from sklearn.model_selection import train_test_split\n",
    "from sklearn.feature_selection import RFE\n",
    "from sklearn.linear_model import LogisticRegression"
   ]
  },
  {
   "cell_type": "code",
   "execution_count": 48,
   "id": "f5cdfa21",
   "metadata": {},
   "outputs": [],
   "source": [
    "X_train, X_test, y_train, y_test = train_test_split(predictors1, response2, \n",
    "                                                    test_size = 0.33, random_state = 42)"
   ]
  },
  {
   "cell_type": "code",
   "execution_count": 49,
   "id": "910396ea",
   "metadata": {},
   "outputs": [],
   "source": [
    "LogR = LogisticRegression(solver='liblinear')"
   ]
  },
  {
   "cell_type": "code",
   "execution_count": 50,
   "id": "bb174c57",
   "metadata": {},
   "outputs": [],
   "source": [
    "selector = RFE(estimator = LogR, n_features_to_select=15, step=1)"
   ]
  },
  {
   "cell_type": "code",
   "execution_count": 51,
   "id": "1da55148",
   "metadata": {},
   "outputs": [],
   "source": [
    "selector = selector.fit(X_train, y_train)"
   ]
  },
  {
   "cell_type": "code",
   "execution_count": 52,
   "id": "90e3af14",
   "metadata": {},
   "outputs": [
    {
     "data": {
      "text/plain": [
       "15"
      ]
     },
     "execution_count": 52,
     "metadata": {},
     "output_type": "execute_result"
    }
   ],
   "source": [
    "selector.n_features_"
   ]
  },
  {
   "cell_type": "code",
   "execution_count": 53,
   "id": "44028885",
   "metadata": {},
   "outputs": [
    {
     "data": {
      "text/plain": [
       "array([ 7, 42,  1,  1,  1,  1, 28, 15,  1,  1,  1,  6, 11,  1,  1, 33,  1,\n",
       "        2,  1, 20, 19, 18,  4, 47, 24, 48,  1,  1, 25, 41, 43, 23,  3,  5,\n",
       "       44, 34, 35, 10, 26, 45, 39, 22, 21, 38, 46, 40,  1, 14, 27, 36, 12,\n",
       "        1, 32,  8, 29, 31,  9, 30, 17, 16, 13, 37])"
      ]
     },
     "execution_count": 53,
     "metadata": {},
     "output_type": "execute_result"
    }
   ],
   "source": [
    "selector.ranking_"
   ]
  },
  {
   "cell_type": "code",
   "execution_count": 54,
   "id": "90c76864",
   "metadata": {},
   "outputs": [
    {
     "data": {
      "text/html": [
       "<div>\n",
       "<style scoped>\n",
       "    .dataframe tbody tr th:only-of-type {\n",
       "        vertical-align: middle;\n",
       "    }\n",
       "\n",
       "    .dataframe tbody tr th {\n",
       "        vertical-align: top;\n",
       "    }\n",
       "\n",
       "    .dataframe thead th {\n",
       "        text-align: right;\n",
       "    }\n",
       "</style>\n",
       "<table border=\"1\" class=\"dataframe\">\n",
       "  <thead>\n",
       "    <tr style=\"text-align: right;\">\n",
       "      <th></th>\n",
       "      <th>Feature</th>\n",
       "      <th>Rank</th>\n",
       "    </tr>\n",
       "  </thead>\n",
       "  <tbody>\n",
       "    <tr>\n",
       "      <th>2</th>\n",
       "      <td>Networth</td>\n",
       "      <td>1</td>\n",
       "    </tr>\n",
       "    <tr>\n",
       "      <th>3</th>\n",
       "      <td>Capital_Employed</td>\n",
       "      <td>1</td>\n",
       "    </tr>\n",
       "    <tr>\n",
       "      <th>4</th>\n",
       "      <td>Total_Debt</td>\n",
       "      <td>1</td>\n",
       "    </tr>\n",
       "    <tr>\n",
       "      <th>5</th>\n",
       "      <td>Gross_Block_</td>\n",
       "      <td>1</td>\n",
       "    </tr>\n",
       "    <tr>\n",
       "      <th>8</th>\n",
       "      <td>Current_Liabilities_and_Provisions_</td>\n",
       "      <td>1</td>\n",
       "    </tr>\n",
       "    <tr>\n",
       "      <th>9</th>\n",
       "      <td>Total_Assets_to_Liabilities_</td>\n",
       "      <td>1</td>\n",
       "    </tr>\n",
       "    <tr>\n",
       "      <th>10</th>\n",
       "      <td>Gross_Sales</td>\n",
       "      <td>1</td>\n",
       "    </tr>\n",
       "    <tr>\n",
       "      <th>13</th>\n",
       "      <td>Value_Of_Output</td>\n",
       "      <td>1</td>\n",
       "    </tr>\n",
       "    <tr>\n",
       "      <th>14</th>\n",
       "      <td>Cost_of_Production</td>\n",
       "      <td>1</td>\n",
       "    </tr>\n",
       "    <tr>\n",
       "      <th>16</th>\n",
       "      <td>PBIDT</td>\n",
       "      <td>1</td>\n",
       "    </tr>\n",
       "    <tr>\n",
       "      <th>18</th>\n",
       "      <td>PBIT</td>\n",
       "      <td>1</td>\n",
       "    </tr>\n",
       "    <tr>\n",
       "      <th>26</th>\n",
       "      <td>Book_Value_Unit_Curr</td>\n",
       "      <td>1</td>\n",
       "    </tr>\n",
       "    <tr>\n",
       "      <th>27</th>\n",
       "      <td>Book_Value_Adj._Unit_Curr</td>\n",
       "      <td>1</td>\n",
       "    </tr>\n",
       "    <tr>\n",
       "      <th>46</th>\n",
       "      <td>Current_Ratio[Latest]</td>\n",
       "      <td>1</td>\n",
       "    </tr>\n",
       "    <tr>\n",
       "      <th>51</th>\n",
       "      <td>Interest_Cover_Ratio[Latest]</td>\n",
       "      <td>1</td>\n",
       "    </tr>\n",
       "  </tbody>\n",
       "</table>\n",
       "</div>"
      ],
      "text/plain": [
       "                                Feature  Rank\n",
       "2                              Networth     1\n",
       "3                      Capital_Employed     1\n",
       "4                            Total_Debt     1\n",
       "5                          Gross_Block_     1\n",
       "8   Current_Liabilities_and_Provisions_     1\n",
       "9          Total_Assets_to_Liabilities_     1\n",
       "10                          Gross_Sales     1\n",
       "13                      Value_Of_Output     1\n",
       "14                   Cost_of_Production     1\n",
       "16                                PBIDT     1\n",
       "18                                 PBIT     1\n",
       "26                 Book_Value_Unit_Curr     1\n",
       "27            Book_Value_Adj._Unit_Curr     1\n",
       "46                Current_Ratio[Latest]     1\n",
       "51         Interest_Cover_Ratio[Latest]     1"
      ]
     },
     "execution_count": 54,
     "metadata": {},
     "output_type": "execute_result"
    }
   ],
   "source": [
    "df = pd.DataFrame({'Feature': scaled_predictors.columns, 'Rank': selector.ranking_})\n",
    "df[df['Rank'] == 1]"
   ]
  },
  {
   "cell_type": "markdown",
   "id": "29086632",
   "metadata": {},
   "source": [
    "# Validating the model on train and test set"
   ]
  },
  {
   "cell_type": "code",
   "execution_count": 55,
   "id": "4b94d9e0",
   "metadata": {},
   "outputs": [],
   "source": [
    "from sklearn.metrics import confusion_matrix, classification_report"
   ]
  },
  {
   "cell_type": "code",
   "execution_count": 56,
   "id": "a18ac321",
   "metadata": {},
   "outputs": [],
   "source": [
    "pred_train = selector.predict(X_train)\n",
    "pred_test = selector.predict(X_test)"
   ]
  },
  {
   "cell_type": "code",
   "execution_count": 57,
   "id": "4005ab2c",
   "metadata": {},
   "outputs": [
    {
     "name": "stdout",
     "output_type": "stream",
     "text": [
      "[[2136   21]\n",
      " [ 104  141]]\n"
     ]
    }
   ],
   "source": [
    "print(confusion_matrix(y_train, pred_train))"
   ]
  },
  {
   "cell_type": "code",
   "execution_count": 58,
   "id": "2e367894",
   "metadata": {},
   "outputs": [
    {
     "name": "stdout",
     "output_type": "stream",
     "text": [
      "              precision    recall  f1-score   support\n",
      "\n",
      "         0.0       0.95      0.99      0.97      2157\n",
      "         1.0       0.87      0.58      0.69       245\n",
      "\n",
      "    accuracy                           0.95      2402\n",
      "   macro avg       0.91      0.78      0.83      2402\n",
      "weighted avg       0.95      0.95      0.94      2402\n",
      "\n"
     ]
    }
   ],
   "source": [
    "print(classification_report(y_train, pred_train))"
   ]
  },
  {
   "cell_type": "code",
   "execution_count": 59,
   "id": "aa2e2a8a",
   "metadata": {},
   "outputs": [
    {
     "name": "stdout",
     "output_type": "stream",
     "text": [
      "[[1022   19]\n",
      " [  50   93]]\n"
     ]
    }
   ],
   "source": [
    "print(confusion_matrix(y_test, pred_test))"
   ]
  },
  {
   "cell_type": "code",
   "execution_count": 60,
   "id": "3a870d23",
   "metadata": {},
   "outputs": [
    {
     "name": "stdout",
     "output_type": "stream",
     "text": [
      "              precision    recall  f1-score   support\n",
      "\n",
      "         0.0       0.95      0.98      0.97      1041\n",
      "         1.0       0.83      0.65      0.73       143\n",
      "\n",
      "    accuracy                           0.94      1184\n",
      "   macro avg       0.89      0.82      0.85      1184\n",
      "weighted avg       0.94      0.94      0.94      1184\n",
      "\n"
     ]
    }
   ],
   "source": [
    "print(classification_report(y_test, pred_test))"
   ]
  },
  {
   "cell_type": "markdown",
   "id": "e6da1eb7",
   "metadata": {},
   "source": [
    "The END!"
   ]
  },
  {
   "cell_type": "code",
   "execution_count": null,
   "id": "de9dd37c",
   "metadata": {},
   "outputs": [],
   "source": []
  }
 ],
 "metadata": {
  "kernelspec": {
   "display_name": "Python 3",
   "language": "python",
   "name": "python3"
  },
  "language_info": {
   "codemirror_mode": {
    "name": "ipython",
    "version": 3
   },
   "file_extension": ".py",
   "mimetype": "text/x-python",
   "name": "python",
   "nbconvert_exporter": "python",
   "pygments_lexer": "ipython3",
   "version": "3.8.8"
  }
 },
 "nbformat": 4,
 "nbformat_minor": 5
}
